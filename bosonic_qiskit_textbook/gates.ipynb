{
 "cells": [
  {
   "cell_type": "markdown",
   "metadata": {},
   "source": [
    "# Gates"
   ]
  },
  {
   "cell_type": "markdown",
   "metadata": {},
   "source": [
    "## Basic operations"
   ]
  },
  {
   "attachments": {},
   "cell_type": "markdown",
   "metadata": {},
   "source": [
    "A bit-flip is the obvious operation on a classical bit which is either in the state $0$ or $1$. In addition to the bit value, qubit states also can exhibit a phase in the form of a complex scalar multiplying the ket. A bit-flip operation on a qubit is described by a $\\sigma^x$ operator. Phase-flips are performed with $\\sigma^z$. With these few operators, a rotation of the qubit by any degree $\\theta$ about any axis $\\hat n$ can be achieved using these operations alone. Defining $\\vec \\sigma \\equiv (\\sigma^x, i\\sigma^x\\sigma^z, \\sigma^z)$, the operator performing this rotation is\n",
    "$$\n",
    "\\text{Rotation about $\\hat n$ by $\\theta$ degrees} = e^{i\\frac{\\theta}{2}\\hat n \\cdot \\vec \\sigma}\n",
    "$$\n",
    "\n",
    "**Note:** To raise $e$ to a matrix exponent, use the power series representation $e^M = \\sum_{n=0}^\\infty \\frac{M^n}{n!}$"
   ]
  },
  {
   "attachments": {},
   "cell_type": "markdown",
   "metadata": {},
   "source": [
    "If bit-flips and phase-flips are the basic operations we can do to a qubit, what can we do to a quantum harmonic oscillator? Oftentimes the states of an oscillator marching up to infinity are compared to a ladder, where adding a photon to the oscillator climbs one rung up the ladder, and removing a photon climbs one rung down the ladder. This motivates us to introduce the so-called *ladder operators* $a$ and $a^\\dagger$. The $a$ is called the annihilation operator because it removes a photon from the oscillator, and the $a^\\dagger$ operator is the creation operator because it adds a photon to the oscillator. \n",
    "\n",
    "**Note:** The ${}^\\dagger$ operation is called the adjoint. This is simple to define in the finite-dimensional space of a qubit, but can become tricky in the infinite-dimensional space of an oscillator, in particular because some operators may not have an adjoint! We deal with this using the following definition: If $O$ is an operator, $|u\\rangle$ and $|v\\rangle$ are kets, and $\\Big\\langle |u\\rangle, |v\\rangle \\Big\\rangle = \\langle v | u\\rangle$ is the inner product of $|u\\rangle$ and $|v\\rangle$, then $O^\\dagger$ is the adjoint of $O$ iff $\\Big\\langle O^\\dagger|u\\rangle, |v\\rangle \\Big\\rangle = \\Big\\langle |u\\rangle, O|v\\rangle \\Big\\rangle$."
   ]
  },
  {
   "attachments": {},
   "cell_type": "markdown",
   "metadata": {},
   "source": [
    "## Ladder operators"
   ]
  },
  {
   "attachments": {},
   "cell_type": "markdown",
   "metadata": {},
   "source": [
    "There are two types of particles in the universe: bosons and fermions. Bosons are defined by the property that if $a,a^\\dagger$ are annihilation and creation operators for a boson, then $[a,a^\\dagger] = 1$. For fermions, the same property applies to the anticommutator. Photons are bosons, so $[a,a^\\dagger]=1$ holds for the quantum harmonic oscillator. The bracket symbol $[\\cdot, \\cdot]$ is called the commutator, and it is defined as\n",
    "$$\n",
    "[A,B] = AB-BA\n",
    "$$\n",
    "The commutator measures the degree to which two operators fail to commute, and the commutator $[a,a^\\dagger] = 1$ has imporant consequences.\n",
    "\n",
    "**Excercise**:\n",
    "Prove the identity $[AB, C] = [A,C]B + A[B,C]$. Assuming that $[A,[A,B]] = [B,[A,B]] = 0$, show that $[A^n, B] = nA^{n-1}[A,B]$. Lastly, under the same assumption, prove that $[e^{A}, B] = e^{A}[A,B]$.\n",
    "\n",
    "### The number operator\n",
    "The first thing we can do with the ladder operators is construct a new operator called the *number operator*:\n",
    "$$\n",
    "N \\equiv a^\\dagger a\n",
    "$$\n",
    "Why is it called the number operator? Using the commutator $[a, a^\\dagger] = 1$, we can work out the commutator of $N$ with $a$:\n",
    "\\begin{align*}\n",
    "[N, a] &= [a,a]a^\\dagger + a[a^\\dagger,a] = -a\n",
    "\\end{align*}\n",
    "Then, we consider a ket $|n\\rangle$ that is an eigenket of $N$ with eigenvalue $n$. We see that\n",
    "\\begin{align*}\n",
    "N(a|n\\rangle) &= (aN+[N,a])|n \\rangle = (n-1)(a|n\\rangle)\n",
    "\\end{align*}\n",
    "This shows us that applying $a$ to $|n\\rangle$ results in an eigenket of $N$ with eigenvalue $n-1$, and so \n",
    "$$\n",
    "a|n\\rangle = c_n|n-1\\rangle\n",
    "$$\n",
    "where $c_n$ is a constant. But $a$ is *defined* to be an operator such that applying it to a state of the oscillator removes one photon from the oscillator. This means that the state $|n-1\\rangle$ represents a state with one less photon then $|n\\rangle$. We can make the same argument to prove the reverse for $a^\\dagger$. Moreover, $\\Vert a |n\\rangle \\Vert = |c|^2 \\geq 0$, and $\\Vert a|n\\rangle \\Vert^2 = \\langle n|a^\\dagger a | n \\rangle=n$, and so $n \\geq 0$. These facts together show us that $n$ is the number of photons in the oscillator, and $N$ is a special operator that counts the number of photons in the oscillator. For this reason it is called the number operator.\n"
   ]
  },
  {
   "attachments": {},
   "cell_type": "markdown",
   "metadata": {},
   "source": [
    "### Properties\n",
    "We can explore more properties of the ladder operators using these facts. First, we find\n",
    "$$\n",
    "\\Vert a|n\\rangle \\Vert^2 = \\langle n| a^\\dagger a |n\\rangle = n\\langle n | n\\rangle = n\n",
    "$$\n",
    "But $\\Vert a|n\\rangle \\Vert^2 = |c_n|^2$, and so $|c_n|^2 = n$. We can choose $c_n$ to be real without loss of generality, and so $c_n = \\sqrt{n}$. This gives\n",
    "$$\n",
    "a|n\\rangle = \\sqrt{n}|n-1\\rangle\n",
    "$$\n",
    "We can find the constant $d_n$ such that $a^\\dagger |n\\rangle = d_n |n+1\\rangle$ by enforcing that $a^\\dagger$ is the adjoint of $a$. This requires that\n",
    "$$\n",
    "\\Big \\langle a|n\\rangle, |m\\rangle \\Big \\rangle = \n",
    "\\Big \\langle |n\\rangle, a^\\dagger|m\\rangle \\Big \\rangle\n",
    "$$\n",
    "The inner product is sesquilinear in the second argument, meaning that $\\langle u, av\\rangle = \\langle a^\\ast u, v \\rangle$. Thus we have\n",
    "$$\n",
    "\\Big \\langle a|m\\rangle, |n\\rangle \\Big \\rangle = \\sqrt{m}\\langle m-1| n \\rangle = \\sqrt{n+1}\\delta_{m-1, n}\n",
    "$$\n",
    "and\n",
    "$$\n",
    "\\Big \\langle |m\\rangle, a^\\dagger|n\\rangle \\Big \\rangle = d_n^\\ast \\langle m | n+1\\rangle = d_n^\\ast\\delta_{m, n+1}\n",
    "$$\n",
    "Choosing $d_n$ to be real by convention, we get $d_n = \\sqrt{n+1}$, and so\n",
    "$$\n",
    "a^\\dagger |n\\rangle = \\sqrt{n+1}|n+1\\rangle\n",
    "$$\n",
    "\n"
   ]
  },
  {
   "attachments": {},
   "cell_type": "markdown",
   "metadata": {},
   "source": [
    "## The Baker-Campbell-Hausedorff Lemma\n",
    "The rule for exponentiating scalars $e^ae^b = e^{a+b}$ is so familiar that most of the time we don't give it a second thought. However, if $A$ and $B$ are matrices, then in general $e^Ae^B \\neq e^{A+B}$. The lemma says that if $A$ and $B$ are operators such that $[[A,B],A] = [[A,B],B] = 0$, the the following identity holds:\n",
    "$$\n",
    "e^A e^B = e^{A+B}e^{[A,B]/2}\n",
    "$$\n",
    "\n",
    "**Excercise:** Prove this Lemma by defining the functions $f(\\alpha) = e^{\\alpha A}e^{\\alpha B}$ and $g(\\alpha) = e^{\\alpha(A+B)}e^{\\alpha^2[A,B]}$, then using $[e^{\\alpha A}, B] = \\alpha e^{\\alpha A}[A, B]$ to prove that $\\frac{\\partial f}{\\partial\\alpha}= \\frac{\\partial g}{\\partial \\alpha}$. Since obviously $f(0) = g(0)$ and $f$ and $g$ are both continuous functions of $\\alpha$, using $\\alpha = 1$ gives the BCH Lemma."
   ]
  },
  {
   "attachments": {},
   "cell_type": "markdown",
   "metadata": {},
   "source": [
    "## Outer products of operators\n",
    "So far, Dirac notation has simplified writing down states such as $|\\psi\\rangle$, $|\\phi\\rangle$ and inner products $\\langle \\psi | \\phi \\rangle$. Dirac notation can also be useful to simplify the way operators are written using the outer product, e.g. $|\\psi\\rangle \\langle \\phi|$. One fact about a linear operator $T$ is that it can be uniquely defined by the way it acts on a basis. Consider the number basis $B = \\{|0\\rangle, |1\\rangle, |2\\rangle, ...\\}$. When $t$ acts on $|n\\rangle$, we will call the resultant state $T|n\\rangle \\equiv |t_n\\rangle$. Then we claim that we can write $T$ as\n",
    "$$\n",
    "T = \\sum_{m=0}|t_m\\rangle \\langle m|\n",
    "$$\n",
    "This follows from the orthonormality of $B$: $\\langle n | m \\rangle = \\delta_{mn}$. We can check that $T$ produces the correct output for each basis ket input:\n",
    "$$\n",
    "T |n\\rangle = \\sum_{m=0}|t_m\\rangle \\langle m|n\\rangle = \n",
    "\\sum_{m=0}|t_m\\rangle\\delta_{mn} = \n",
    "|t_n\\rangle\n",
    "$$\n",
    "\n",
    "### Examples\n",
    "Some interesting examples of this are\n",
    "\n",
    "1. \n",
    "$$\n",
    "N = \\sum_{n=0}^\\infty n|n\\rangle \\langle n|\n",
    "$$\n",
    "2. \n",
    "$$\n",
    "a = \\sum_{n=0}^\\infty \\sqrt{n}|n-1\\rangle \\langle n|\n",
    "$$\n",
    "3.\n",
    "$$\n",
    "a^\\dagger = \\left(\\sum_{n=0}^\\infty \\sqrt{n}|n-1\\rangle \\langle n|\\right)^\\dagger = \n",
    "\\sum_{n=0}^\\infty \\sqrt{n}(|n-1\\rangle \\langle n|)^\\dagger = \n",
    "\\sum_{n=0}^\\infty \\sqrt{n+1}|n+1\\rangle \\langle n|\n",
    "$$\n",
    "We can also show that\n",
    "\n",
    "4.\n",
    "$$\n",
    "e^{\\alpha N}|n\\rangle = \\sum_{m=0}^\\infty \\frac{(\\alpha N)^m|n\\rangle}{m!} = \n",
    "\\sum_{m=0}^\\infty \\frac{(\\alpha n)^m|n\\rangle}{m!} = e^{\\alpha n}\n",
    "$$\n",
    "Using the method above of writing linear maps using outer products, we can then say that\n",
    "$$\n",
    "e^{\\alpha N} = \\sum_{n=0}^\\infty e^{\\alpha n}|n\\rangle \\langle n|\n",
    "$$\n"
   ]
  },
  {
   "cell_type": "markdown",
   "metadata": {},
   "source": [
    "## Bosonic Gates"
   ]
  },
  {
   "attachments": {},
   "cell_type": "markdown",
   "metadata": {},
   "source": [
    "The fundamental goal of Bosonic Qiskit is to \"develop an instruction set architecture (ISA) for hybrid qubit/bosonic mode systems that contains an inventory of the fundamental operations and measurements that are possible in such hardware.\" The instructions in the instruction set are the gates which can be implemented on hardware and allow for the manipulation of quantum information stored in coupled qubit-bosonic mode systems. Here, we will explore some of the gates available in the Bosonic Qiskit library:"
   ]
  },
  {
   "attachments": {},
   "cell_type": "markdown",
   "metadata": {},
   "source": [
    "### Single-mode gates\n",
    "#### Phase space rotation\n",
    "The phase space rotation gate is defined as $r(\\theta) \\equiv e^{i\\theta N}$. Using the identity above, we can write\n",
    "$$\n",
    "r(\\theta) = e^{i\\theta N } = \\sum_{n=0}^\\infty e^{i\\theta n}|n\\rangle \\langle n|\n",
    "$$\n",
    "This form shows that the affect of this gate is to apply the phase $(e^{i\\theta})^n$ to the state $|n\\rangle$."
   ]
  },
  {
   "attachments": {},
   "cell_type": "markdown",
   "metadata": {},
   "source": [
    "#### Displacement\n",
    "A coherent state $\\lambda$ is defined as a state $|\\lambda\\rangle$ such that $a|\\lambda \\rangle = \\lambda |\\lambda\\rangle$. We have already seen the most trivial coherent state: the vaccum state $|0\\rangle$. The only sensible choice for removing a photon from a state with no photons is $a|0\\rangle = 0$, where $0$ referes to the null ket. Trivially, $|0\\rangle$ is an eigenstate of $a$ with eigenvalue zero.\n",
    "\n",
    "To make one coherent state from another, we need an operator that changes, or \"displaces,\" the eigenvalue of $|\\lambda\\rangle$. This is called the displacement operator, and it is defined as\n",
    "$$\n",
    "D(\\lambda) = e^{\\lambda a^\\dagger + \\lambda^\\ast a}\n",
    "$$\n",
    "By working out the commutator $[D(\\theta), a] = D(\\theta)[\\theta a^\\dagger + \\theta^\\ast a, a] = D(\\theta)\\theta$, we find that\n",
    "$$\n",
    "a(D(\\theta)|\\lambda\\rangle) = (D(\\theta)a+[D(\\theta), a])|\\lambda \\rangle = D(\\theta)(a+\\theta)|\\lambda \\rangle = (\\lambda + \\theta)(D(\\theta)|\\lambda \\rangle)\n",
    "$$\n",
    "This shows that $D(\\theta)|\\lambda\\rangle$ is an eigenket of $a$ with eigenvalue $\\theta+\\lambda$, which means that up to a global phase, $D(\\theta)|\\lambda\\rangle = |\\lambda + \\theta \\rangle$. \n",
    "\n",
    "Furthermore, using the BCH identity, we see that\n",
    "$$\n",
    "D(\\theta)D(\\lambda) = e^{\\lambda a^\\dagger + \\lambda^\\ast a} e^{\\theta a^\\dagger + \\theta^\\ast a} =\n",
    "e^{(\\lambda+\\theta) a^\\dagger + (\\lambda+\\theta)^\\ast a}e^{[\\lambda a^\\dagger + \\lambda^\\ast a, \\theta a^\\dagger + \\theta^\\ast a]}\n",
    "= D(\\theta + \\lambda)e^{e^{\\theta\\lambda^\\ast- \\theta^\\ast\\lambda}}\n",
    "$$"
   ]
  },
  {
   "attachments": {},
   "cell_type": "markdown",
   "metadata": {},
   "source": [
    "### Single-mode squeezing\n"
   ]
  },
  {
   "attachments": {},
   "cell_type": "markdown",
   "metadata": {},
   "source": [
    "The uncertainty principle is one of the most recognizable results in quantum mechanics. In general, the uncertainty principle says that for any two operators $A$ and $B$,\n",
    "$$\n",
    "\\langle (\\delta A)^2 \\rangle_\\psi \\langle (\\delta B)^2\\rangle_\\psi \\geq \\frac{1}{4}|\\langle[A, B]\\rangle_\\psi|^2\n",
    "$$\n",
    "where we have defined $\\delta A \\equiv A-\\langle A \\rangle_\\psi$ and $\\delta B \\equiv B - \\langle B \\rangle_\\psi$.\n",
    "\n",
    "**Excercise**: Prove the uncertainty principle using the Cauchy-Schwarz inequality on the above definitions of $\\delta A$ and $\\delta B$.\n",
    "\n",
    "In units where $\\hbar = 1$, the canonical commutation relation is $[x, p] = i$. This gives\n",
    "$$\n",
    "\\langle (\\delta x)^2 \\rangle_\\lambda \\langle (\\delta p)^2 \\rangle_\\lambda = \\frac{1}{4}\n",
    "$$\n",
    "This relationship is a mathematical statement relating the variances of noncommuting operators. It places no fundamental limit on the variance of $x$ or the variance of $p$, but only on the product of the variances. For any coherent state, $\\langle (\\delta x)^2 \\rangle = (2m\\omega)^{-1}$ and $\\langle (\\delta p)^2 \\rangle = \\frac{m\\omega}{2}$. If we want to make a measurement of the position, we would want to decrease the uncertainty in position, and to protect the uncertainty principle, the uncertainty in the momentum would have to increase. This is done through a process called *squeezing*. \n",
    "\n",
    "The single-mode squeezing operator is expressed as follows:\n",
    "$$\n",
    "sq(\\theta) = e^{\\frac{1}{2}(\\theta^\\ast aa-\\theta a^\\dagger a^\\dagger)}\n",
    "$$"
   ]
  }
 ],
 "metadata": {
  "kernelspec": {
   "display_name": "Python 3",
   "language": "python",
   "name": "python3"
  },
  "language_info": {
   "codemirror_mode": {
    "name": "ipython",
    "version": 3
   },
   "file_extension": ".py",
   "mimetype": "text/x-python",
   "name": "python",
   "nbconvert_exporter": "python",
   "pygments_lexer": "ipython3",
   "version": "3.10.8"
  },
  "orig_nbformat": 4,
  "vscode": {
   "interpreter": {
    "hash": "e7370f93d1d0cde622a1f8e1c04877d8463912d04d973331ad4851f04de6915a"
   }
  }
 },
 "nbformat": 4,
 "nbformat_minor": 2
}

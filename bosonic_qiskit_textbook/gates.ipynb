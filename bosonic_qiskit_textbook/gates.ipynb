{
 "cells": [
  {
   "attachments": {},
   "cell_type": "markdown",
   "metadata": {},
   "source": [
    "# Bosonic Gates"
   ]
  },
  {
   "attachments": {},
   "cell_type": "markdown",
   "metadata": {},
   "source": [
    "The fundamental goal of Bosonic Qiskit is to \"develop an instruction set architecture (ISA) for hybrid qubit/bosonic mode systems that contains an inventory of the fundamental operations and measurements that are possible in such hardware.\" The instructions in the instruction set are the gates which can be implemented on hardware and allow for the manipulation of quantum information stored in coupled qubit-bosonic mode systems. Here, we will explore some of the gates available in the Bosonic Qiskit library."
   ]
  },
  {
   "attachments": {},
   "cell_type": "markdown",
   "metadata": {},
   "source": [
    "## The Baker-Campbell-Hausedorff Lemma\n",
    "This lemma will come into heavy use later on. The rule for exponentiating scalars $e^ae^b = e^{a+b}$ is so familiar that most of the time we don't give it a second thought. However, if $A$ and $B$ are matrices, then in general $e^Ae^B \\neq e^{A+B}$. The lemma says that if $A$ and $B$ are operators such that $[[A,B],A] = [[A,B],B] = 0$, the the following identity holds:\n",
    "$$\n",
    "e^A e^B = e^{A+B}e^{[A,B]/2}\n",
    "$$\n",
    "\n",
    "**Excercise:** Prove this Lemma by defining the functions $f(\\alpha) = e^{\\alpha A}e^{\\alpha B}$ and $g(\\alpha) = e^{\\alpha(A+B)}e^{\\alpha^2[A,B]/2}$, then taking the first derivative with respect to $\\alpha$ and using $[e^{\\alpha A}, B] = \\alpha e^{\\alpha A}[A, B]$ to prove that $f$ and $g$ satisfy the same differential equation. Since obviously $f(0) = g(0)$ and $f$ and $g$ are both continuous functions of $\\alpha$, using $\\alpha = 1$ gives the BCH Lemma."
   ]
  },
  {
   "attachments": {},
   "cell_type": "markdown",
   "metadata": {},
   "source": [
    "### Single-mode gates\n",
    "#### Phase space rotation\n",
    "The phase space rotation gate is defined as $r(\\theta) \\equiv e^{i\\theta N}$. Using the identity above, we can write\n",
    "$$\n",
    "r(\\theta) = e^{i\\theta N } = \\sum_{n=0}^\\infty e^{i\\theta n}|n\\rangle \\langle n|\n",
    "$$\n",
    "This form shows that the affect of this gate is to apply the phase $(e^{i\\theta})^n$ to the state $|n\\rangle$."
   ]
  },
  {
   "attachments": {},
   "cell_type": "markdown",
   "metadata": {},
   "source": [
    "#### Displacement\n",
    "A coherent state $\\lambda$ is defined as a state $|\\lambda\\rangle$ such that $a|\\lambda \\rangle = \\lambda |\\lambda\\rangle$. We have already seen the most trivial coherent state: the vaccum state $|0\\rangle$. Since $a|n\\rangle = \\sqrt{n}|n-1\\rangle$, we find $a|0\\rangle = 0$, where $0$ referes to the null ket. This is also the only sensible description of removing a photon from a state with no photons. Trivially, $|0\\rangle$ is an eigenstate of $a$ with eigenvalue zero.\n",
    "\n",
    "To make one coherent state from another, we need an operator that changes, or \"displaces,\" the eigenvalues of $a$. This is called the displacement operator, and it is defined as\n",
    "$$\n",
    "D(\\lambda) = e^{\\lambda a^\\dagger + \\lambda^\\ast a}\n",
    "$$\n",
    "By working out the commutator $[D(\\theta), a] = D(\\theta)[\\theta a^\\dagger + \\theta^\\ast a, a] = -D(\\theta)\\theta$, we find that\n",
    "$$\n",
    "D^\\dagger(\\theta) a D(\\theta) = D^\\dagger(\\theta)(D(\\theta)a-[D(\\theta), a]) = D^\\dagger(\\theta)D(\\theta)(a+\\theta) = a+\\theta\n",
    "$$\n",
    "This shows that $D(\\theta)$ displaces the eigenvalues of $a$ by $\\theta$, which means that up to a global phase, $D(\\theta)|\\lambda\\rangle = |\\lambda + \\theta \\rangle$. \n",
    "\n",
    "Furthermore, using the BCH identity, we see that\n",
    "$$\n",
    "D(\\theta)D(\\lambda) = e^{\\lambda a^\\dagger + \\lambda^\\ast a} e^{\\theta a^\\dagger + \\theta^\\ast a} =\n",
    "e^{(\\lambda+\\theta) a^\\dagger + (\\lambda+\\theta)^\\ast a}e^{[\\lambda a^\\dagger + \\lambda^\\ast a, \\theta a^\\dagger + \\theta^\\ast a]/2}\n",
    "= D(\\theta + \\lambda)e^{e^{(\\theta\\lambda^\\ast- \\theta^\\ast\\lambda)/2}}\n",
    "$$\n",
    "$$\n",
    "|\\theta \\rangle = D(\\theta)|0\\rangle\n",
    "$$"
   ]
  },
  {
   "attachments": {},
   "cell_type": "markdown",
   "metadata": {},
   "source": [
    "### Single-mode squeezing\n"
   ]
  },
  {
   "attachments": {},
   "cell_type": "markdown",
   "metadata": {},
   "source": [
    "The uncertainty principle is one of the most recognizable results in quantum mechanics. In general, the uncertainty principle says that for any two Hermitian operators $A$ and $B$,\n",
    "$$\n",
    "\\langle (\\delta A)^2 \\rangle_\\psi \\langle (\\delta B)^2\\rangle_\\psi \\geq \\frac{1}{4}|\\langle[A, B]\\rangle_\\psi|^2\n",
    "$$\n",
    "where we have defined $\\delta A \\equiv A-\\langle A \\rangle_\\psi$ and $\\delta B \\equiv B - \\langle B \\rangle_\\psi$.\n",
    "\n",
    "**Excercise**: Prove the uncertainty principle using the Cauchy-Schwarz inequality on the above definitions of $\\delta A$ and $\\delta B$. *Hint:* The expectation value of a Hermitian operator is real and the expectation value of an anti-hermitian operator is imaginary. By writing a product as a sum of a commutator and anticommutator, the expectation value of the product can be split into real and imaginary parts.\n",
    "\n",
    "The canonical commutation relation between position and momentum is $[x, p] = i\\hbar$. This gives\n",
    "$$\n",
    "\\langle (\\delta x)^2 \\rangle_\\lambda \\langle (\\delta p)^2 \\rangle_\\lambda \\geq \\frac{\\hbar^2}{4}\n",
    "$$\n",
    "This relationship is a mathematical statement relating the variances of noncommuting operators. It places no fundamental limit on the variance of $x$ or the variance of $p$, but only on the product of the variances. \n",
    "\n",
    "It is customary to work with the quadrature position and momentum variables\n",
    "\\begin{align*}\n",
    "X &\\equiv (m\\omega/\\hbar)^{\\frac{1}{2}}x & P &\\equiv (m\\omega \\hbar)^{-\\frac{1}{2}}p\n",
    "\\end{align*}\n",
    "These operators are conveniently defined in terms of the creation/annihilation operators as\n",
    "\\begin{align*}\n",
    "X &= \\frac{a+a^\\dagger}{\\sqrt{2}} & P &= \\frac{a-a^\\dagger}{i\\sqrt{2}}\n",
    "\\end{align*}\n",
    "such that $[X, P]=i$. Coherent states have symmetric variances in these variables, i.e.\n",
    "$$\n",
    "\\langle (\\delta X)^2 \\rangle_\\lambda = \\langle (\\delta P^2)\\rangle_\\lambda = \\frac{1}{2}\n",
    "$$\n",
    "If we want to make a measurement of the position, we would want to decrease the uncertainty in position, and to protect the uncertainty principle, the uncertainty in the momentum would have to increase. Minimum-uncertainty states with a $\\langle (\\delta X)^2 \\rangle < \\frac{1}{2}$ called position-squeezed states, and states with $\\langle (\\delta P)^2 \\rangle < \\frac{1}{2}$ are called momentum-squeezed states.\n",
    "\n",
    "The single-mode squeezing operator is expressed as follows:\n",
    "$$\n",
    "sq(\\theta) = e^{\\frac{1}{2}(\\theta^\\ast aa-\\theta a^\\dagger a^\\dagger)}\n",
    "$$\n",
    "\n",
    "To see why this operator can be called the squeezing operator, consider $\\theta$ to be real. Then we need to apply the more general Baker-Campbell-Hausedorff *formula*\n",
    "$$\n",
    "e^XYe^{-X} = \\sum_{n=0}^\\infty \\frac{[(X)^n, Y]}{n!} \\ \\text{where} \\ [(X)^n, Y] \\equiv [X, [X, [X, ... , [X,Y]...]]]\n",
    "$$\n",
    "A relatively strightforward proof of this can be found here:\n",
    "https://math.stackexchange.com/a/711309/518150\n",
    "\n",
    "Using $A = [a^\\dagger]^2-a^2$, we can then work out the commutators\n",
    "\\begin{align*}\n",
    "[A, a] &= [(a^\\dagger)^2, a] = [a^\\dagger, a]a^\\dagger+a^\\dagger[a^\\dagger, a] = -2a^\\dagger \\\\\n",
    "[A, a^\\dagger] &= [-a^2, a^\\dagger] = -[a, a^\\dagger]a-a[a, a^\\dagger] = -2a\n",
    "\\end{align*}\n",
    "This causes the commutator series to \"flip\" back and forth between $a$ and $a^\\dagger$ and pick up a factor of $-\\theta$ with each increase in n:\n",
    "\\begin{align*}\n",
    "[\\frac{\\theta}{2}A, a] &= -\\theta a^\\dagger\\\\\n",
    "[\\frac{\\theta}{2}A,[\\frac{\\theta}{2}A, a]] &= \\theta^2 a\\\\\n",
    "[\\frac{\\theta}{2}{A},[\\frac{\\theta}{2}A,[\\frac{\\theta}{2}A, a]]] &= -\\theta^3 a^\\dagger\\\\\n",
    "&\\text{etc...}\n",
    "\\end{align*}\n",
    "Plugging this into the BCH formula, we find\n",
    "$$\n",
    "e^{\\theta/2 A} a e^{-\\theta/2 A} = a\\sum_{n=0}^\\infty \\frac{\\theta^{2n}}{(2n)!} - a^\\dagger\\sum_{n=0}^\\infty \\frac{\\theta^{2n+1}}{(2n+1)!} = a\\cosh(\\theta) - a^\\dagger \\sinh(\\theta)\n",
    "$$\n",
    "Using the same argument, we see that\n",
    "$$\n",
    "e^{\\theta/2 A} a^\\dagger e^{-\\theta/2 A} = a^\\dagger \\cosh(\\theta) - a \\sinh(\\theta)\n",
    "$$\n",
    "In the Heisenburg picture where the operators transform instead of the kets, we denote the squeezed operator $O$ by $O_{sq} \\equiv sq^\\dagger(\\theta) O sq(\\theta)$, and we find\n",
    "$$\n",
    "X_{sq} = \\frac{a_{sq}+a_{sq}^\\dagger}{\\sqrt{2}} = (a+a^\\dagger)(\\cosh(\\theta)-\\sinh(\\theta)) = Xe^{-\\theta}\n",
    "$$\n",
    "Similarly,\n",
    "$$\n",
    "P_{sq} = \\frac{a_{sq}-a_{sq}^\\dagger}{i\\sqrt{2}} = (a-a^\\dagger)(\\cosh(\\theta)+\\sinh(\\theta)) = Xe^{\\theta}\n",
    "$$\n",
    "We can use these operators to calculate the variance of $X$ and $P$ on the state $sq(\\theta)|\\psi\\rangle$ for some arbitrary state $|\\psi\\rangle$:\n",
    "\\begin{align*}\n",
    "\\langle (\\delta X)^2\\rangle_{sq(\\theta)|\\psi\\rangle} \n",
    "&= \\langle \\psi | X_{sq}^2 | \\psi\\rangle - \\langle \\psi | X_{sq} | \\psi \\rangle^2 \\\\\n",
    "&= e^{-2\\theta}(\\langle \\psi | X^2 | \\psi\\rangle - \\langle \\psi | X | \\psi \\rangle^2) \\\\\n",
    "&=  e^{-2\\theta}\\langle (\\delta X)^2 \\rangle_{|\\psi\\rangle}\n",
    "\\end{align*}\n",
    "With the same logic, we see that\n",
    "$$\n",
    "\\langle(\\delta P)^2 \\rangle_{sq(\\theta)|\\psi \\rangle} = e^{2\\theta}\\langle (\\delta P)^2 \\rangle_{|\\psi\\rangle}\n",
    "$$\n",
    "This shows that applying the squeezing operator to a coherent state results in a state with $X$ variance $e^{-2\\theta}/2$ and $P$ variance $e^{2\\theta}/2$. If $\\theta > 0$, this is a position-squeezed state, and choosing $\\theta < 0$ results in a momentum-squeezed state. Since $\\frac{e^{-2\\theta}}{2}\\frac{e^{2\\theta}}{2} = \\frac{1}{4}$, the squeezed state is also a minimum-uncertainty state."
   ]
  }
 ],
 "metadata": {
  "kernelspec": {
   "display_name": "Python 3",
   "language": "python",
   "name": "python3"
  },
  "language_info": {
   "codemirror_mode": {
    "name": "ipython",
    "version": 3
   },
   "file_extension": ".py",
   "mimetype": "text/x-python",
   "name": "python",
   "nbconvert_exporter": "python",
   "pygments_lexer": "ipython3",
   "version": "3.10.8 (main, Nov  1 2022, 14:18:21) [GCC 12.2.0]"
  },
  "orig_nbformat": 4,
  "vscode": {
   "interpreter": {
    "hash": "e7370f93d1d0cde622a1f8e1c04877d8463912d04d973331ad4851f04de6915a"
   }
  }
 },
 "nbformat": 4,
 "nbformat_minor": 2
}

{
 "cells": [
  {
   "attachments": {},
   "cell_type": "markdown",
   "metadata": {},
   "source": [
    "# Introduction\n",
    "\n",
    "Bits are the world's simplest alphabet, allowing any piece of information to be represented using the characters 0 and 1. Qubits are an extension of the bit to quantum mechanics, allowing us to encode arbitrary quantum information with just the states $|0\\rangle$ and $|1\\rangle$. But what if intead of two characters, the alphabet were infinite?\n",
    "\n",
    "A quantum harmonic oscillator is an object with an infinite alphabet of states. By \"state,\" we mean the different possible energy levels of the oscillator. One of the consequences of quantum mechanics is that energy can only be added to the oscillator in discrete packets. These packets are called photons. The amount of energy in the oscillator increases in proportion to the number of photons in the oscillator, so the different states of the oscillator are labeled by the number of photons corresponding to that state, i.e. $|0\\rangle, |1\\rangle, |2\\rangle, |3\\rangle,...$, all the way to infinity.\n",
    "\n",
    "insert diagram here"
   ]
  },
  {
   "attachments": {},
   "cell_type": "markdown",
   "metadata": {},
   "source": [
    "## Dirac Notation\n",
    "You may be familiar with representing quantum states using matrices with complex coefficients. There is another convenient way to represent quantum states called Dirac notation. Dirac notation denotes a state by placing a label for a state between $|$ and $\\rangle$. Mutually exclusive states, such as states with different enegies or a different number of photons, are assigned to orthogonal vectors. This allows us to easily go back and forth between matrix notation and Dirac notation:\n",
    "$$\n",
    "\\alpha |0\\rangle + \\beta |1 \\rangle \\ \\dot{=} \\ \\alpha \\begin{pmatrix} 1 \\\\ 0 \\end{pmatrix} + \\beta \\begin{pmatrix} 0 \\\\ 1 \\end{pmatrix} = \\begin{pmatrix} \\alpha \\\\ \\beta \\end{pmatrix}\n",
    "$$\n",
    "The funny $\\dot =$ sign is used to indicate that the choice of orthogonal vectors to assign to each state is arbitrary, so we could easily have made a different choice to assign $|0 \\rangle$ to $\\begin{pmatrix} 0 \\\\ 1\\end{pmatrix}$ and $|1\\rangle$ to $\\begin{pmatrix} 1 \\\\ 0 \\end{pmatrix}$.\n",
    "\n",
    "One obvious advantage of Dirac notation is that it removes the ambiguity representing states as matrices. Another advantage is particularly clear with a quantum harmonic oscillator. With an infinite number of mutually exclusive states, the vectors would be infinitely long!"
   ]
  },
  {
   "cell_type": "markdown",
   "metadata": {},
   "source": [
    "## States"
   ]
  },
  {
   "attachments": {},
   "cell_type": "markdown",
   "metadata": {},
   "source": [
    "### Superposition\n",
    "Qubits have the familiar basis states $|0\\rangle$ and $|1\\rangle$. The \"state space\" of the qubit is a vector space with coefficients that are complex numbers. These basis states act like vectors in the state space. Like vectors, they can be multiplied by any complex number and added to get another state. The fact that these states form a *basis* implies two properties: \n",
    "1) they are mutually exclusive\n",
    "2) if $|\\psi\\rangle$ is any valid state, then it is possible to find complex numbers $\\alpha$ and $\\beta$ such that\n",
    "$$\n",
    "|\\psi \\rangle = \\alpha |0\\rangle + \\beta |1\\rangle\n",
    "$$\n",
    "\n",
    "These assertions hold for a quantum harmonic oscillator as well, except now we have an infinite number of states $|0\\rangle, |1\\rangle, |2\\rangle,...$ to work with. Each of these states corresponds to a different number of photons in the oscillator, so they are mutually exclusive. Furthermore, for any state of the oscillator $|\\psi\\rangle$, it is possible to find a series of complex numbers $\\alpha_0, \\alpha_1, \\alpha_2,...$ such that\n",
    "$$\n",
    "|\\psi\\rangle = \\sum_{n=0}^\\infty \\alpha_n |n\\rangle\n",
    "$$"
   ]
  },
  {
   "attachments": {},
   "cell_type": "markdown",
   "metadata": {},
   "source": [
    "### Borne Rule\n",
    "An important postulate of quantum mechanics is the *Borne Rule*. This postulate is the foundation for interpreting the physical meaning of superpositions and predicting the outcome of measurements. Measurement is one of the most crucial parts of a quantum algorithm--it's how we obtain the results! Measuring a classical bit is easy; The bit is either in the state $0$ or $1$, so just look at it and see what state it is in. Quantum mechanics complicates this simple picture by allowing superpositions like the one above:\n",
    "$$\n",
    "|\\psi \\rangle = \\alpha |0 \\rangle + \\beta | 1 \\rangle\n",
    "$$\n",
    "What would the outcome of a measurement on this state be? The Borne rule gives an answer. Take the qubit state $|0\\rangle$ without loss of generality. The Borne Rule says that the probability of measuring $|\\psi\\rangle$ in the state $|0\\rangle$ is \n",
    "$$\n",
    "p_\\psi(0) = \\langle \\psi | 0 \\rangle \\langle 0 | \\psi \\rangle = |\\langle 0 | \\psi \\rangle |^2\n",
    "$$\n",
    "\n",
    "Where the notation $\\langle \\psi |$ is called a \"bra\", and is like a row-vector, or a linear map that sends kets to complex numbers. Multiplying a bra and a ket is a type of operation called an inner product. The Borne Rule tells us something that we assumed when constructing matrix representations: the inner product of two mutually exclusive states should be zero. \n",
    "\n",
    "Why should this be the case? Take for example the states $|0\\rangle$ and $|1\\rangle$. These states are mutually exclusive, and so the probability of measuring $|0\\rangle$ in the state $|1\\rangle$ should be zero. By the Borne rule, $p_0(1) = |\\langle 1 | 0 \\rangle|^2 = 0$. This shows that mutually exclusive states are orthogonal, or in other words their inner product is zero.\n",
    "\n",
    "Another important mechanism in quantum mechanics is state collapse. In quantum mechanics, you don't see what you get; You get what you see. This summarizes the phenomenon of state collapse. When an experimenter measures a set of mutually exclusive (orthogonal) states, the measurement, no matter how delicate, causes an irresversible collapse of the system into the state consistent with the result of the measurement."
   ]
  },
  {
   "attachments": {},
   "cell_type": "markdown",
   "metadata": {},
   "source": [
    "### Normalization\n",
    "We said previously that state space is like a vector space in that multiplying two states by complex numbers and adding them should produce another vector in state space, but this is not entirely correct. The Borne rule places another restriction on the vectors in state space: normalization. We define the norm of a state $|\\psi\\rangle$ to be the square root of the inner product of a state with itself:\n",
    "$$\n",
    "\\Vert \\psi \\Vert \\equiv \\sqrt{\\langle \\psi | \\psi \\rangle}\n",
    "$$\n",
    "The probability of measuring the state $|\\psi\\rangle$ in the state $|\\psi\\rangle$, if thre is any sense in this, should be one. By the Borne Rule, this implies that\n",
    "$$\n",
    "p_\\psi(\\psi) = |\\langle \\psi | \\psi \\rangle|^2 = 1\n",
    "$$\n",
    "Another way to say this is $\\Vert \\psi \\Vert = 1$. This is called normalization, and the consequence is that all valid quantum states must be normalized."
   ]
  },
  {
   "attachments": {},
   "cell_type": "markdown",
   "metadata": {},
   "source": [
    "### Generalizing to Bosonic Modes:\n",
    "All of the above assertions hold for quantum harmonic oscillators:\n",
    "1. Orthogonality: $|n\\rangle$ and $|m\\rangle$ are mutually exclusive if $m\\neq n$, so $\\langle m | n \\rangle = 0$. \n",
    "2. Normalization: All states are normalized, so $\\langle n | n \\rangle = 1$ for any $n$.\n",
    "These last two properties can be summarized as\n",
    "$$\n",
    "\\langle m | n \\rangle = \\delta_{mn}\n",
    "$$\n",
    "Where the symbol $\\delta_{mn}$ is known as a Kronecker delta.\n",
    "\n",
    "3. The Borne Rule: If $|\\psi\\rangle = \\sum_{n=0}^\\infty \\alpha_n |n\\rangle$ is a general state, then\n",
    "$$\n",
    "p_\\psi(m) = |\\langle m | \\psi\\rangle|^2 = \\left|\\langle m | \\sum_{n=0}^\\infty \\alpha_n|n\\rangle \\right|^2\n",
    "=\\left|\\sum_{n=0}^\\infty \\alpha_n\\langle m|n\\rangle \\right|^2 = |\\alpha_m|^2\n",
    "$$\n"
   ]
  }
 ],
 "metadata": {
  "kernelspec": {
   "display_name": "Python 3",
   "language": "python",
   "name": "python3"
  },
  "language_info": {
   "codemirror_mode": {
    "name": "ipython",
    "version": 3
   },
   "file_extension": ".py",
   "mimetype": "text/x-python",
   "name": "python",
   "nbconvert_exporter": "python",
   "pygments_lexer": "ipython3",
   "version": "3.10.8"
  },
  "orig_nbformat": 4,
  "vscode": {
   "interpreter": {
    "hash": "e7370f93d1d0cde622a1f8e1c04877d8463912d04d973331ad4851f04de6915a"
   }
  }
 },
 "nbformat": 4,
 "nbformat_minor": 2
}

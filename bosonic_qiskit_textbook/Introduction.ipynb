{
 "cells": [
  {
   "attachments": {},
   "cell_type": "markdown",
   "metadata": {},
   "source": [
    "# Introduction\n",
    "\n",
    "Bits are the world's simplest alphabet, allowing any piece of information to be represented using the characters 0 and 1. Qubits are an extension of the bit to quantum mechanics, allowing us to encode arbitrary quantum information with just the states $|0\\rangle$ and $|1\\rangle$. But what if intead of two characters, the alphabet were infinite?\n",
    "\n",
    "A quantum harmonic oscillator is an object with an infinite alphabet of states. By \"state,\" we mean the different possible energy levels of the oscillator. One of the consequences of quantum mechanics is that energy can only be added to an oscillator in discrete packets. These packets are called photons. The amount of energy in the oscillator increases in proportion to the number of photons in the oscillator, so the different states of the oscillator are labeled by the number of photons corresponding to that state, i.e. $|0\\rangle, |1\\rangle, |2\\rangle, |3\\rangle,...$, all the way to infinity.\n",
    "\n",
    "![A qubit has two distringuishable states, whereas an oscillator has infinitely many](./figures/energy_diagram.png)\n",
    "\n",
    "The figure above shows the two mutually exclusive states of a qubit (a) compared with the infinitely many states of a quantum harmonic oscillator (b)."
   ]
  },
  {
   "attachments": {},
   "cell_type": "markdown",
   "metadata": {},
   "source": [
    "## Dirac Notation\n",
    "You may be familiar with representing quantum states using matrices with complex coefficients. There is another convenient way to represent quantum states called Dirac notation. Dirac notation denotes a state by placing a label for the state between $|$ and $\\rangle$. Mutually exclusive states, such as states with different energies or a different number of photons, are assigned to orthogonal vectors. This allows us to easily go back and forth between matrix notation and Dirac notation. For example, using the mutually exclusive states $|0\\rangle$ and $|1\\rangle$, \n",
    "$$\n",
    "\\alpha |0\\rangle + \\beta |1 \\rangle \\ \\dot{=} \\ \\alpha \\begin{pmatrix} 1 \\\\ 0 \\end{pmatrix} + \\beta \\begin{pmatrix} 0 \\\\ 1 \\end{pmatrix} = \\begin{pmatrix} \\alpha \\\\ \\beta \\end{pmatrix}\n",
    "$$\n",
    "The funny $\\dot =$ sign is used to indicate that the choice of orthogonal vectors to assign to each state is arbitrary, so we could easily have made a different choice to assign $|0 \\rangle$ to $\\begin{pmatrix} 0 \\\\ 1\\end{pmatrix}$ and $|1\\rangle$ to $\\begin{pmatrix} 1 \\\\ 0 \\end{pmatrix}$.\n",
    "\n",
    "One obvious advantage of Dirac notation is that it removes the ambiguity representing states as matrices. Another advantage is particularly clear with a quantum harmonic oscillator. With an infinite number of mutually exclusive states, the vectors would be infinitely long!"
   ]
  },
  {
   "cell_type": "markdown",
   "metadata": {},
   "source": [
    "## States"
   ]
  },
  {
   "attachments": {},
   "cell_type": "markdown",
   "metadata": {},
   "source": [
    "### Superposition\n",
    "Qubits have the familiar basis states $|0\\rangle$ and $|1\\rangle$. The \"state space\" of the qubit is a vector space with coefficients that are complex numbers. These basis states act like vectors in the state space. Like vectors, they can be multiplied by any complex number and added to get another state. The fact that these states form a *basis* implies two properties: \n",
    "1) They are mutually exclusive\n",
    "2) If $|\\psi\\rangle$ is any valid state, then it is possible to find complex numbers $\\alpha$ and $\\beta$ such that\n",
    "$$\n",
    "|\\psi \\rangle = \\alpha |0\\rangle + \\beta |1\\rangle\n",
    "$$\n",
    "\n",
    "These assertions hold for a quantum harmonic oscillator as well, except now we have an infinite number of states $|0\\rangle, |1\\rangle, |2\\rangle,...$ to work with. Each of these states corresponds to a different number of photons in the oscillator, so they are mutually exclusive. Furthermore, for any state of the oscillator $|\\psi\\rangle$, it is possible to find a series of complex numbers $\\alpha_0, \\alpha_1, \\alpha_2,...$ such that\n",
    "$$\n",
    "|\\psi\\rangle = \\sum_{n=0}^\\infty \\alpha_n |n\\rangle\n",
    "$$"
   ]
  },
  {
   "attachments": {},
   "cell_type": "markdown",
   "metadata": {},
   "source": [
    "### Borne Rule\n",
    "An important postulate of quantum mechanics is the *Borne Rule*. This postulate is the foundation for interpreting the physical meaning of superpositions and predicting the outcome of measurements. Measurement is one of the most crucial parts of a quantum algorithm--it's how we obtain the results! Measuring a classical bit is easy; The bit is either in the state $0$ or $1$, so just look at it and see what state it is in. Quantum mechanics complicates this simple picture by allowing superpositions like the one above:\n",
    "$$\n",
    "|\\psi \\rangle = \\alpha |0 \\rangle + \\beta | 1 \\rangle\n",
    "$$\n",
    "What would the outcome of a measurement on this state be? The Borne rule gives an answer. Take the qubit state $|0\\rangle$ without loss of generality. The Borne Rule says that the probability of measuring $|\\psi\\rangle$ in the state $|0\\rangle$ is \n",
    "$$\n",
    "p_\\psi(0) = \\langle \\psi | 0 \\rangle \\langle 0 | \\psi \\rangle = |\\langle 0 | \\psi \\rangle |^2\n",
    "$$\n",
    "\n",
    "Where the notation $\\langle \\psi |$ is called a \"bra\", and is like a row-vector, or a linear map that sends kets to complex numbers. Multiplying a bra and a ket is a type of operation called an inner product. The Borne Rule tells us something that we assumed when constructing matrix representations: the inner product of two mutually exclusive states should be zero. \n",
    "\n",
    "Why should this be the case? Take for example the states $|0\\rangle$ and $|1\\rangle$. These states are mutually exclusive, and so the probability of measuring $|0\\rangle$ in the state $|1\\rangle$ should be zero. By the Borne rule, $p_0(1) = |\\langle 1 | 0 \\rangle|^2 = 0$. This shows that mutually exclusive states are orthogonal, or in other words their inner product is zero.\n",
    "\n",
    "Another important mechanism in quantum mechanics is state collapse. In quantum mechanics, you don't see what you get; You get what you see. This summarizes the phenomenon of state collapse. When an experimenter measures a set of mutually exclusive (orthogonal) states, the measurement, no matter how delicate, causes an irresversible collapse of the system into the state consistent with the result of the measurement."
   ]
  },
  {
   "attachments": {},
   "cell_type": "markdown",
   "metadata": {},
   "source": [
    "### Normalization\n",
    "We said previously that state space is like a vector space in that multiplying two states by complex numbers and adding them should produce another vector in state space, but this is not entirely correct. The Borne rule places another restriction on the vectors in state space: normalization. We define the norm of a state $|\\psi\\rangle$ to be the square root of the inner product of a state with itself:\n",
    "$$\n",
    "\\Vert \\psi \\Vert \\equiv \\sqrt{\\langle \\psi | \\psi \\rangle}\n",
    "$$\n",
    "The probability of measuring the state $|\\psi\\rangle$ in the state $|\\psi\\rangle$, if there is any sense in this, should be one. By the Borne Rule, this implies that\n",
    "$$\n",
    "p_\\psi(\\psi) = |\\langle \\psi | \\psi \\rangle|^2 = 1\n",
    "$$\n",
    "Another way to say this is $\\Vert \\psi \\Vert = 1$. This is called normalization, and the consequence is that all valid quantum states must be normalized."
   ]
  },
  {
   "attachments": {},
   "cell_type": "markdown",
   "metadata": {},
   "source": [
    "### Generalizing to Bosonic Modes:\n",
    "All of the above assertions hold for quantum harmonic oscillators:\n",
    "1. Orthogonality: $|n\\rangle$ and $|m\\rangle$ are mutually exclusive if $m\\neq n$, so $\\langle m | n \\rangle = 0$. \n",
    "2. Normalization: All states are normalized, so $\\langle n | n \\rangle = 1$ for any $n$.\n",
    "These last two properties can be summarized as\n",
    "$$\n",
    "\\langle m | n \\rangle = \\delta_{mn}\n",
    "$$\n",
    "Where the symbol $\\delta_{mn}$ is known as a Kronecker delta.\n",
    "\n",
    "3. The Borne Rule: If $|\\psi\\rangle = \\sum_{n=0}^\\infty \\alpha_n |n\\rangle$ is a general state, then\n",
    "$$\n",
    "p_\\psi(m) = |\\langle m | \\psi\\rangle|^2 = \\left|\\langle m | \\sum_{n=0}^\\infty \\alpha_n|n\\rangle \\right|^2\n",
    "=\\left|\\sum_{n=0}^\\infty \\alpha_n\\langle m|n\\rangle \\right|^2 = |\\alpha_m|^2\n",
    "$$\n"
   ]
  },
  {
   "attachments": {},
   "cell_type": "markdown",
   "metadata": {},
   "source": [
    "## The tensor product\n",
    "Quantum computing with bosonic modes fundamentally relies onrqubits interacting with quantum harmonic oscillators, so we are in dire need of a way to describe the state space of multiple systems at once. Here enters the tensor product. The tensor product is a way to build new vector spaces from old vector spaces, and it turns out to be perfect to describe the combined state of multiple systems. \n",
    "\n",
    "Mathematically, if $U$ and $V$ are vector spaces over a field $\\mathbb{F}$, then the tensor product space $U \\otimes V$ is a vector space with the following properties:\n",
    "1. If $u\\in U$ and $v\\in V$ then $(u,v)$ corresponds to a vector $u \\otimes v \\in U \\otimes V$\n",
    "2. If $u,u' \\in U$ and $v \\in V$, then $u\\otimes v + u'\\otimes v = (u+u') \\otimes v$, and likewise if the positions were switched\n",
    "3. If $\\lambda \\in \\mathbb{F}$, then $\\lambda(u\\otimes v) = (\\lambda u) \\otimes v = u \\otimes (\\lambda v)$. Like a product, scalar multiples can be placed wherever\n",
    "\n",
    "In addition, all of the standard axioms of a vector space hold for $U \\otimes V$.\n",
    "\n",
    "For a quick example, consider the tensor product space $\\mathbb{R} \\otimes \\mathbb{R}$. The following operation is valid:\n",
    "$$\n",
    "3 \\otimes 5 + 1 \\otimes (-5) = 3\\otimes 5 + (-1) \\otimes 5 = 2 \\otimes 5\n",
    "$$"
   ]
  },
  {
   "attachments": {},
   "cell_type": "markdown",
   "metadata": {},
   "source": [
    "### Facts about the tensor product\n",
    "Before going into the application to describing quantum systems, it is useful to explore some properties of the tensor product. \n",
    "\n",
    "First, although $(u,v)$ corresponds to some vector $u \\otimes v$, this definitely does not imply that every vector $w \\in U\\otimes V$ corresponds to $(u,v)$ for some $u\\in U$ and $v \\in V$. In general, if $u,u' \\in U$ and $v, v' \\in V$, then $u \\otimes v + u' \\otimes v'$ may not correspond to any $(u'', v'')$ for $u'' \\in U$ and $v'' \\in V$. This fact is crucial in distinguishing entangled and product states in quantum mechanics.\n",
    "\n",
    "Second, a basis for $U\\otimes V$ can be constructed from bases for $U$ and $V$. If $\\{u_1, u_2, ...\\}$ is a basis for $U$, and $\\{v_1, v_2, ...\\}$ is a basis for $V$, then $\\{u_i \\otimes v_j\\}$ for all $i,j$ is a basis for $U\\otimes V$. \n",
    "\n",
    "Lastly, if $T:U\\to U$ and $E:V\\to V$ are linear maps, then we define the linear map $T \\otimes E$ via $(T \\otimes E)(u \\otimes v) = T(u)\\otimes E(v)$, and we can check that the tensor space of operators $\\mathcal{B}(U)\\otimes \\mathcal{B}(V)$ satisfies all the tensor space axioms as well."
   ]
  },
  {
   "cell_type": "markdown",
   "metadata": {},
   "source": [
    "## Product states and entanglement"
   ]
  },
  {
   "attachments": {},
   "cell_type": "markdown",
   "metadata": {},
   "source": [
    "### Product states\n",
    "\n",
    "Armed with the mechanics of tensor algebra, we can now describe a system consisting of one qubit and one oscillator. If the state of the qubit is $|\\psi\\rangle$ and the state of the oscillator is $|\\phi\\rangle$, then the total state of the system can be written as $|\\psi\\rangle \\otimes |\\phi\\rangle$. Sometimes the kets will be written with labels to indicate which system they belong to: $|\\psi\\rangle_{qbt}|\\phi\\rangle_{osc}$, and sometimes the tensor symbol is dropped entirely to write the state as $|\\psi\\rangle|\\phi\\rangle$, or a combination of the two. \n",
    "\n",
    "From the previous discussion, the basis for the combined system will also be infinite, with basis vectors $\\{|0\\rangle\\otimes |n\\rangle, |1\\rangle\\otimes |m\\rangle\\}$ for all integers $m,n > 0$. A product state is a state of the combined system that corresponds directly to a pair of states for each system. Take for example the state\n",
    "$$\n",
    "|\\Psi\\rangle = (\\alpha |0\\rangle + \\beta |1\\rangle) \\otimes |\\psi\\rangle\n",
    "$$\n",
    "This is a product state because it is factored into a tensor product of states for each subsystem. This has an interesting consequence when taken along with state collapse and the Borne rule. If the qubit is measured in state $|0 \\rangle$, then the total state collapses into\n",
    "$$\n",
    "|\\Psi'\\rangle = |0\\rangle \\otimes |\\psi\\rangle\n",
    "$$\n",
    "Using the Borne rule, the probability of measuring the oscillator in the state $|0 \\rangle$ is then\n",
    "\\begin{align*}\n",
    "p_{\\Psi'}(10 \\ or \\ 00) &= |(\\langle 0|\\otimes\\langle 0|)(|0 \\rangle\\otimes |\\psi\\rangle)|^2 + |(\\langle 1|\\otimes\\langle 0)(|0\\rangle\\otimes |\\psi\\rangle) |^2  \\\\\n",
    "&= |\\langle 0|0\\rangle\\langle 0|\\psi\\rangle|^2 + |\\langle 1|0\\rangle\\langle 0|\\psi\\rangle |^2  \\\\\n",
    "&= |\\langle 0|\\psi\\rangle|^2\n",
    "\\end{align*}\n",
    "Similarly, if the qubit is measured in state $|0 \\rangle$, then the total state collapses into\n",
    "$$\n",
    "|\\Psi''\\rangle = |1\\rangle \\otimes |\\psi\\rangle\n",
    "$$\n",
    "The Borne rule then gives the probability of measuring the oscillator in the state $|0 \\rangle$ to be\n",
    "\\begin{align*}\n",
    "p_{\\Psi''}(10 \\ or \\ 00) &= |(\\langle 0|\\otimes\\langle 0|)(|1 \\rangle\\otimes |\\psi\\rangle)|^2 + |(\\langle 1|\\otimes\\langle 0)(|1\\rangle\\otimes |\\psi\\rangle) |^2  \\\\\n",
    "&= |\\langle 0|1\\rangle\\langle 0|\\psi\\rangle|^2 + |\\langle 1|1\\rangle\\langle 0|\\psi\\rangle |^2  \\\\\n",
    "&= |\\langle 0|\\psi\\rangle|^2\n",
    "\\end{align*}\n",
    "This is the exact same probability the Borne rule would have given if we hadn't considered the state of the qubit at all. Factoring into a product corresponds to the two subsystems having no knowledge of each other and behaving as they would independently."
   ]
  },
  {
   "attachments": {},
   "cell_type": "markdown",
   "metadata": {},
   "source": [
    "### Entanglement\n",
    "\n",
    "For an example of a state that cannot be factored into a tensor prodcut, consider the following:\n",
    "$$\n",
    "|\\Psi\\rangle  = \\frac{|0\\rangle \\otimes |0\\rangle + |1\\rangle \\otimes |1\\rangle}{\\sqrt{2}}\n",
    "$$\n",
    "The factor of $\\sqrt{2}$ in the denominator ensures that this state is properly normalized. Now, we can run the same thought experiment as before. If the qubit is measured in state $|0\\rangle$, then the state collapses into\n",
    "$$\n",
    "|\\Psi' \\rangle = |0\\rangle \\otimes |0\\rangle\n",
    "$$\n",
    "It is clear that if the oscillator is measured, it has a 100\\% probability of being measured in the $|0\\rangle$ state.  Likewise, if the qubit is measured in the $|1\\rangle$ state, then the state collapses into\n",
    "$$\n",
    "|\\Psi'' \\rangle = |1\\rangle \\otimes |1\\rangle\n",
    "$$\n",
    "Now if the state of the oscillator is measured, the outcome is certain to be $|1\\rangle$. The irreducibility of this state into a product causes the outcomes of measurements of the qubit and oscillator to be inextricably linked. "
   ]
  },
  {
   "attachments": {},
   "cell_type": "markdown",
   "metadata": {},
   "source": [
    "## QHOs and Fock States\n",
    "\n",
    "The following codes examples uses the package Bosonic Qiskit by C2QA to work with bosonic modes within Qiskit, a popular SDK for working with quantum computing and computers. Particularly, these examples will go through the process of creating QHOs and initializing Fock states."
   ]
  },
  {
   "attachments": {},
   "cell_type": "markdown",
   "metadata": {},
   "source": [
    "### Importing C2QA's Bosonic Qiskit"
   ]
  },
  {
   "cell_type": "code",
   "execution_count": null,
   "metadata": {},
   "outputs": [],
   "source": [
    "# The C2QA pacakge is currently not published to PyPI.\n",
    "# To use the package locally, add the C2QA repository's root folder to the path prior to importing c2qa.\n",
    "import os\n",
    "import sys\n",
    "module_path = os.path.abspath(os.path.join(\"../..\"))\n",
    "if module_path not in sys.path:\n",
    "    sys.path.append(module_path)\n",
    "\n",
    "import c2qa\n",
    "import qiskit\n",
    "import numpy as np\n",
    "import c2qa.util as util\n",
    "import matplotlib.pyplot as plt\n",
    "import matplotlib"
   ]
  },
  {
   "attachments": {},
   "cell_type": "markdown",
   "metadata": {},
   "source": [
    "### Creating a QHO\n",
    "\n",
    "A QHO in Bosonic Qiskit is refered to as a qumode, coming from how QHO can be created using a mode of a cavity. Because Qiskit uses qubits, which has two states, a $qumode$ uses several qubits to approximate the infinite states a QHO can have. Specially, Bosonic Qiskit \"represents the first $2^k$ levels of a bosonic mode (qumodes) as a register of $k$ qubits\" (C2QA - Bosonic Qiskit).\n",
    "\n",
    "In Bosonic Qiskit, qumodes are represented using the $QumodeRegister$. The following piece of code creates a qumode using 4 qubits. It's important to use enough qubits for a qumode, or else the results of a circuit or simulation may be inaccurate. 4 qubits is a good starting point, but note that with increasing qubits, the runtime of circuits and simulation will increase."
   ]
  },
  {
   "cell_type": "code",
   "execution_count": null,
   "metadata": {},
   "outputs": [],
   "source": [
    "qmr = c2qa.QumodeRegister(\n",
    "    num_qumodes=1,\n",
    "    num_qubits_per_qumode=4\n",
    ")"
   ]
  },
  {
   "cell_type": "markdown",
   "metadata": {},
   "source": [
    "In order to interact with this qumode, you need to create a Bosonic Qiskit circuit. For more complex circuits, you can also add a $QuantumRegister$ and $ClassicalRegister$ to create a system of qumodes and qubits."
   ]
  },
  {
   "cell_type": "code",
   "execution_count": null,
   "metadata": {},
   "outputs": [],
   "source": [
    "circuit = c2qa.CVCircuit(qmr)"
   ]
  },
  {
   "attachments": {},
   "cell_type": "markdown",
   "metadata": {},
   "source": [
    "### Initializing Fock states\n",
    "\n",
    "Bosonic Qubit provides a convenient method to initialize the qumode to different states: $cv\\_initialize$. These states are more formally called Fock states. The following piece of code initializes the qumode to Fock state $\\ket{0}$ (Refering back to the introduction, the number refers to the number of photons corresponding to that state). The first argument refers to which Fock state you want to initialize, and the second argument refers to which qumode you want to use. It's important to remember that the Fock state can only go up to $\\ket{2^k-1}$ for this qumode, in which $k$ is the number of qubits per qumode."
   ]
  },
  {
   "cell_type": "code",
   "execution_count": null,
   "metadata": {},
   "outputs": [],
   "source": [
    "circuit.cv_initialize(0, qmr[0])"
   ]
  },
  {
   "cell_type": "markdown",
   "metadata": {},
   "source": [
    "The method $cv\\_initialize$ can also create a superposition of Fock states. Instead of a value for the first argument, the method can take a list of the coefficients for each Fock state, with the $i^{th}$ coefficient corresponding to Fock state $\\ket{i}$. The following piece of code initilizes the qumode to $\\frac{\\ket{0}+\\ket{1}}{\\sqrt{2}}$."
   ]
  },
  {
   "cell_type": "code",
   "execution_count": null,
   "metadata": {},
   "outputs": [],
   "source": [
    "circuit.cv_initialize([1/np.sqrt(2),1/np.sqrt(2)], qmr[0])"
   ]
  },
  {
   "cell_type": "markdown",
   "metadata": {},
   "source": [
    "The following piece of code demostrates how the $QumodeRegister$ can have multiple qumodes, each with different Fock states."
   ]
  },
  {
   "cell_type": "code",
   "execution_count": null,
   "metadata": {},
   "outputs": [],
   "source": [
    "qmr3 = c2qa.QumodeRegister(\n",
    "    num_qumodes=3,\n",
    "    num_qubits_per_qumode=4\n",
    ")\n",
    "circuit3 = c2qa.CVCircuit(qmr3)\n",
    "circuit3.cv_initialize(4, qmr3[0])\n",
    "circuit3.cv_initialize(1, qmr3[1])\n",
    "circuit3.cv_initialize(5, qmr3[2])"
   ]
  }
 ],
 "metadata": {
  "kernelspec": {
   "display_name": "Python 3",
   "language": "python",
   "name": "python3"
  },
  "language_info": {
   "codemirror_mode": {
    "name": "ipython",
    "version": 3
   },
   "file_extension": ".py",
   "mimetype": "text/x-python",
   "name": "python",
   "nbconvert_exporter": "python",
   "pygments_lexer": "ipython3",
   "version": "3.10.8"
  },
  "orig_nbformat": 4,
  "vscode": {
   "interpreter": {
    "hash": "e7370f93d1d0cde622a1f8e1c04877d8463912d04d973331ad4851f04de6915a"
   }
  }
 },
 "nbformat": 4,
 "nbformat_minor": 2
}

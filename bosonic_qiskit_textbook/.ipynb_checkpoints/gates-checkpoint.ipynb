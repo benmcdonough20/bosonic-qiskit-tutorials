{
 "cells": [
  {
   "cell_type": "markdown",
   "metadata": {},
   "source": [
    "# Bosonic Gates"
   ]
  },
  {
   "cell_type": "markdown",
   "metadata": {},
   "source": [
    "The fundamental goal of Bosonic Qiskit is to \"develop an instruction set architecture (ISA) for hybrid qubit/bosonic mode systems that contains an inventory of the fundamental operations and measurements that are possible in such hardware.\" The instructions in the instruction set are the gates which can be implemented on hardware and allow for the manipulation of quantum information stored in coupled qubit-bosonic mode systems. Here, we will explore some of the gates available in the Bosonic Qiskit library."
   ]
  },
  {
   "cell_type": "markdown",
   "metadata": {},
   "source": [
    "## The Baker-Campbell-Hausedorff Lemma\n",
    "This lemma will come into heavy use later on. The rule for exponentiating scalars $e^ae^b = e^{a+b}$ is so familiar that most of the time we don't give it a second thought. However, if $A$ and $B$ are matrices, then in general $e^Ae^B \\neq e^{A+B}$. The lemma says that if $A$ and $B$ are operators such that $[[A,B],A] = [[A,B],B] = 0$, the the following identity holds:\n",
    "$$\n",
    "e^A e^B = e^{A+B}e^{[A,B]/2}\n",
    "$$\n",
    "\n",
    "**Excercise:** Prove this Lemma by defining the functions $f(\\alpha) = e^{\\alpha A}e^{\\alpha B}$ and $g(\\alpha) = e^{\\alpha(A+B)}e^{\\alpha^2[A,B]/2}$, then taking the first derivative with respect to $\\alpha$ and using $[e^{\\alpha A}, B] = \\alpha e^{\\alpha A}[A, B]$ to prove that $f$ and $g$ satisfy the same differential equation. Since obviously $f(0) = g(0)$ and $f$ and $g$ are both continuous functions of $\\alpha$, using $\\alpha = 1$ gives the BCH Lemma."
   ]
  },
  {
   "cell_type": "markdown",
   "metadata": {},
   "source": [
    "## Another identity\n",
    "There is another identity that becomes useful when dealing with anti-Hermitian operators if the BCH identity is not applicable. Let $A$ be an anti-hermitian operator, and let $U = e^{\\theta A}$. For any operator $B$, denote $U^\\dagger BU$ by $B_U$. By taking the derivative of $U$, we find\n",
    "\\begin{align*}\n",
    "\\frac{\\partial U}{\\partial \\theta} &= AU\n",
    "& \\frac{\\partial U^\\dagger}{\\partial \\theta} &= -U^\\dagger A\n",
    "\\end{align*}\n",
    "Then, we take the derivative of $B_U$, finding\n",
    "$$\n",
    "\\frac{\\partial B_U}{\\partial \\theta} = \\frac{\\partial}{\\partial \\theta}(U^\\dagger B U) = \n",
    "\\frac{\\partial U^\\dagger}{\\partial \\theta}B U +\n",
    "U^\\dagger B \\frac{\\partial U}{\\partial \\theta} = U^\\dagger BA U - U^\\dagger AB U = [B,A]_U\n",
    "$$\n",
    "This is a differential equation which can oftentimes be solved to find $B_U$ as a function of $\\theta$."
   ]
  },
  {
   "cell_type": "markdown",
   "metadata": {},
   "source": [
    "## Gaussian Gates\n",
    "### Phase space rotation\n",
    "The phase space rotation gate is defined as $r(\\theta) \\equiv e^{i\\theta N}$. Using the identity above, we can write\n",
    "$$\n",
    "r(\\theta) = e^{i\\theta N } = \\sum_{n=0}^\\infty e^{i\\theta n}|n\\rangle \\langle n|\n",
    "$$\n",
    "This form shows that the affect of this gate is to apply the phase $(e^{i\\theta})^n$ to the state $|n\\rangle$."
   ]
  },
  {
   "cell_type": "markdown",
   "metadata": {},
   "source": [
    "### Displacement\n",
    "A coherent state $\\lambda$ is defined as a state $|\\lambda\\rangle$ such that $a|\\lambda \\rangle = \\lambda |\\lambda\\rangle$. We have already seen the most trivial coherent state: the vaccum state $|0\\rangle$. Since $a|n\\rangle = \\sqrt{n}|n-1\\rangle$, we find $a|0\\rangle = 0$, where $0$ referes to the null ket. This is also the only sensible description of removing a photon from a state with no photons. Trivially, $|0\\rangle$ is an eigenstate of $a$ with eigenvalue zero.\n",
    "\n",
    "To make one coherent state from another, we need an operator that changes, or \"displaces,\" the eigenvalues of $a$. This is called the displacement operator, and it is defined as\n",
    "$$\n",
    "D(\\lambda) = e^{\\lambda a^\\dagger + \\lambda^\\ast a}\n",
    "$$\n",
    "By working out the commutator $[D(\\theta), a] = D(\\theta)[\\theta a^\\dagger + \\theta^\\ast a, a] = -D(\\theta)\\theta$, we find that\n",
    "$$\n",
    "D^\\dagger(\\theta) a D(\\theta) = D^\\dagger(\\theta)(D(\\theta)a-[D(\\theta), a]) = D^\\dagger(\\theta)D(\\theta)(a+\\theta) = a+\\theta\n",
    "$$\n",
    "This shows that $D(\\theta)$ displaces the eigenvalues of $a$ by $\\theta$, which means that up to a global phase, $D(\\theta)|\\lambda\\rangle = |\\lambda + \\theta \\rangle$. \n",
    "\n",
    "Furthermore, using the BCH identity, we see that\n",
    "$$\n",
    "D(\\theta)D(\\lambda) = e^{\\lambda a^\\dagger + \\lambda^\\ast a} e^{\\theta a^\\dagger + \\theta^\\ast a} =\n",
    "e^{(\\lambda+\\theta) a^\\dagger + (\\lambda+\\theta)^\\ast a}e^{[\\lambda a^\\dagger + \\lambda^\\ast a, \\theta a^\\dagger + \\theta^\\ast a]/2}\n",
    "= D(\\theta + \\lambda)e^{e^{(\\theta\\lambda^\\ast- \\theta^\\ast\\lambda)/2}}\n",
    "$$\n",
    "From this, it also follows that\n",
    "$$\n",
    "D^\\dagger(\\theta) = D(-\\theta)\n",
    "$$"
   ]
  },
  {
   "cell_type": "markdown",
   "metadata": {},
   "source": [
    "### Single-mode squeezing\n"
   ]
  },
  {
   "cell_type": "markdown",
   "metadata": {},
   "source": [
    "The uncertainty principle is one of the most recognizable results in quantum mechanics. In general, the uncertainty principle says that for any two Hermitian operators $A$ and $B$,\n",
    "$$\n",
    "\\langle (\\delta A)^2 \\rangle_\\psi \\langle (\\delta B)^2\\rangle_\\psi \\geq \\frac{1}{4}|\\langle[A, B]\\rangle_\\psi|^2\n",
    "$$\n",
    "where we have defined $\\delta A \\equiv A-\\langle A \\rangle_\\psi$ and $\\delta B \\equiv B - \\langle B \\rangle_\\psi$.\n",
    "\n",
    "**Excercise**: Prove the uncertainty principle using the Cauchy-Schwarz inequality on the above definitions of $\\delta A$ and $\\delta B$. *Hint:* The expectation value of a Hermitian operator is real and the expectation value of an anti-hermitian operator is imaginary. By writing a product as a sum of a commutator and anticommutator, the expectation value of the product can be split into real and imaginary parts.\n",
    "\n",
    "This relationship is a mathematical statement relating the variances of noncommuting operators.\n",
    "\n",
    "It is customary to work with the quadrature position and momentum variables\n",
    "\\begin{align*}\n",
    "X &\\equiv (m\\omega/\\hbar)^{\\frac{1}{2}}x & P &\\equiv (m\\omega \\hbar)^{-\\frac{1}{2}}p\n",
    "\\end{align*}\n",
    "These operators are conveniently defined in terms of the creation/annihilation operators as\n",
    "\\begin{align*}\n",
    "X &= \\frac{a+a^\\dagger}{\\sqrt{2}} & P &= \\frac{a-a^\\dagger}{i\\sqrt{2}}\n",
    "\\end{align*}\n",
    "such that $[X, P]=i$. Coherent states have symmetric variances in these variables, i.e.\n",
    "$$\n",
    "\\langle (\\delta X)^2 \\rangle_\\lambda = \\langle (\\delta P^2)\\rangle_\\lambda = \\frac{1}{2}\n",
    "$$\n",
    "If we want to make a measurement of the position, we would want to decrease the uncertainty in position, and to protect the uncertainty principle, the uncertainty in the momentum would have to increase. Minimum-uncertainty states with a $\\langle (\\delta X)^2 \\rangle < \\frac{1}{2}$ called position-squeezed states, and states with $\\langle (\\delta P)^2 \\rangle < \\frac{1}{2}$ are called momentum-squeezed states.\n",
    "\n",
    "The single-mode squeezing operator is expressed as follows:\n",
    "$$\n",
    "sq(\\theta) = e^{\\frac{1}{2}(\\theta^\\ast aa-\\theta a^\\dagger a^\\dagger)}\n",
    "$$\n",
    "For simplicity, we consider $\\theta$ to be real. To see why this is called the squeezing operator, we first introduce the anti-hermitian matrix $A = \\frac{1}{2}(aa - a^\\dagger a^\\dagger)$ and note that $sq(\\theta) = e^{\\theta A}$. Working out $[a, A] = -[a,\\frac{1}{2}a^\\dagger a^\\dagger] = -a^\\dagger$, the identity above gives the differential equation $\\frac{\\partial a_{sq}}{\\partial \\theta} = -a_{sq}^\\dagger$. Plugging this and the adjoint of this equation into the definition of the quadrature operators gives\n",
    "\\begin{align*}\n",
    "\\frac{\\partial X_{sq}}{\\partial \\theta} &= -X_{sq} & \\frac{\\partial P_{sq}}{\\partial \\theta} &= P_{sq}\n",
    "\\end{align*}\n",
    "Integrating these equations gives the squeezed operators to be\n",
    "\\begin{align*}\n",
    "X_{sq} &= Xe^{-\\theta}\\\\\n",
    "P_{sq} &= Pe^{\\theta}\n",
    "\\end{align*}\n",
    "We can use these operators to calculate the variance of $X$ and $P$ on the state $sq(\\theta)|\\psi\\rangle$ for some arbitrary state $|\\psi\\rangle$:\n",
    "\\begin{align*}\n",
    "\\langle (\\delta X)^2\\rangle_{sq(\\theta)|\\psi\\rangle} \n",
    "&= \\langle \\psi | X_{sq}^2 | \\psi\\rangle - \\langle \\psi | X_{sq} | \\psi \\rangle^2 \\\\\n",
    "&= e^{-2\\theta}(\\langle \\psi | X^2 | \\psi\\rangle - \\langle \\psi | X | \\psi \\rangle^2) \\\\\n",
    "&=  e^{-2\\theta}\\langle (\\delta X)^2 \\rangle_{|\\psi\\rangle}\n",
    "\\end{align*}\n",
    "With the same logic, we see that\n",
    "$$\n",
    "\\langle(\\delta P)^2 \\rangle_{sq(\\theta)|\\psi \\rangle} = e^{2\\theta}\\langle (\\delta P)^2 \\rangle_{|\\psi\\rangle}\n",
    "$$\n",
    "This shows that applying the squeezing operator to a state compresses the variance of one of the quadratures at the expense of increased uncertainty in the other. In particular, applying the squeezing operator to a coherent state results in a state with $X$ variance $e^{-2\\theta}/2$ and $P$ variance $e^{2\\theta}/2$. If $\\theta > 0$, this is a position-squeezed state, and choosing $\\theta < 0$ results in a momentum-squeezed state. Since $\\frac{e^{-2\\theta}}{2}\\frac{e^{2\\theta}}{2} = \\frac{1}{4}$, the squeezed state is also a minimum-uncertainty state."
   ]
  },
  {
   "cell_type": "markdown",
   "metadata": {},
   "source": [
    "### Two-mode squeezing\n",
    "The two mode squeezing operator, though similar to the single-mode squeezing operator, serves a slightly different purpose. Rather than compressing the uncertainty into to the position or momentum quadrature of a single mode, the two-mode squeezing operator has the same affect on nonlocal obervables. This creates entanglement between the two modes, and in fact, this was the inspiration behind the famous EPR nonlocality paradox. For this operator, we introduce a second qumode with corresopnding creation and annihilation operators $b^\\dagger$ and $b$. Since these two operators act on disjoint subsystems, $[a,b] = [a^\\dagger, b] = [a, b^\\dagger] = [a^\\dagger, b^\\dagger] = 0$ and $[a,a^\\dagger] = [b, b^\\dagger] = 1$.\n",
    "\n",
    "We can proceed to work out the affect of the two-mode squeezing operator, defined \n",
    "$$\n",
    "sq2(\\theta) = e^{\\theta^\\ast ab-\\theta a^\\dagger b^\\dagger}\n",
    "$$\n",
    "Again taking theta to be real, We first work out the commutator $[a,ba-b^\\dagger a^\\dagger] = -b^\\dagger$. Applying the result from before, this gives\n",
    "\\begin{align*}\n",
    "\\frac{\\partial a_{sq2}}{\\partial \\theta} &= -b^\\dagger_{sq2} & \\frac{\\partial a^\\dagger_{sq2}}{\\partial \\theta} &= -b_{sq2}\n",
    "\\end{align*}\n",
    "We define the quadrature operators of the second oscillator to be $R \\equiv \\frac{b+b^\\dagger}{\\sqrt{2}}$ and $S \\equiv \\frac{b-b^\\dagger}{i\\sqrt{2}}$. We cna combine the above equations to find\n",
    "$$\n",
    "X_{sq2} = \\frac{a_{sq2}+a_{sq2}^\\dagger}{\\sqrt{2}} = \\frac{\\partial}{\\partial \\theta}\\left(\\frac{-b^\\dagger_{sq2}-b_{sq2}}{\\sqrt{2}}\\right) = -\\frac{\\partial R_{sq2}}{\\partial \\theta}\n",
    "$$\n",
    "$$\n",
    "P_{sq2} = \\frac{a_{sq2}-a_{sq2}^\\dagger}{i\\sqrt{2}} = \\frac{\\partial}{\\partial \\theta}\\left(\\frac{-b^\\dagger_{sq2}+b_{sq2}}{\\sqrt{2}}\\right) = \\frac{\\partial S_{sq2}}{\\partial \\theta}\n",
    "$$\n",
    "For $b$ and $b^\\dagger$, the commutator works out to $[b, ab-a^\\dagger b^\\dagger] = [b, -a^\\dagger b^\\dagger] = -a^\\dagger$, which then gives a similar set of equations for the transformed $b$ and $b^\\dagger$ operators:\n",
    "\\begin{align*}\n",
    "\\frac{\\partial b_{sq2}}{\\partial \\theta} &= -a^\\dagger_{sq2} & \\frac{\\partial b^\\dagger_{sq2}}{\\partial \\theta} &= -a_{sq2}\n",
    "\\end{align*}\n",
    "Combining these equations similarly gives\n",
    "$$\n",
    "R_{sq2} = -\\frac{\\partial X_{sq2}}{\\partial \\theta}\n",
    "$$\n",
    "$$\n",
    "S_{sq2} = \\frac{\\partial P_{sq2}}{\\partial \\theta}\n",
    "$$\n",
    "Adding these together, we get uncoupled differential equations for joint observables:\n",
    "$$\n",
    "\\frac{\\partial}{\\partial \\theta}(X_{sq2} \\pm R_{sq2}) = -(X_{sq2} \\pm R_{sq2}) \\Rightarrow X_{sq2} \\pm R_{sq2} = (X_{sq2} \\pm R_{sq2})e^{-\\theta}\n",
    "$$\n",
    "$$\n",
    "\\frac{\\partial}{\\partial \\theta}(P_{sq2} \\pm S_{sq2}) = P_{sq2} \\pm S_{sq2} \\Rightarrow P_{sq2} \\pm S_{sq2} = (P_{sq2} \\pm S_{sq2})e^{\\theta}\n",
    "$$\n",
    "In the extreme limit $\\theta \\to \\infty$, every state is mapped to an eigenvalue of $X+R$, demonstrating how the squeezing operator creates correlations between the state of two oscillators."
   ]
  },
  {
   "cell_type": "markdown",
   "metadata": {},
   "source": [
    "## Beamsplitter\n",
    "\n",
    "A beam splitter is the most simple way to mix two modes. Quantum mechanical descriptions of beamsplitters can be difficult to reconcile with the classical picture of a wave in a field that is partially reflected and partially transmitted, because quantum mechanical effects such as vacuum fluctuations affect the behavior of the beamsplitter. The beamsplitter operator is defined as\n",
    "$$\n",
    "bs(\\theta) = e^{\\theta a^\\dagger b - b^\\dagger a}\n",
    "$$\n",
    "First, we see how the annihilation and creation operators transform under this unitary. Taking $\\theta$ to be real as before, we work out the commutator\n",
    "$$\n",
    "[a, a^\\dagger b - b^\\dagger a] = [a, a^\\dagger b] = b\n",
    "$$\n",
    "Already, we can see that the affect of conjugation by the generator $a^\\dagger b-b^\\dagger a$ is to transform $a\\to b$. Then, we also have the commutator\n",
    "$$\n",
    "[b, a^\\dagger b - b^\\dagger a] = [b,-b^\\dagger a] = -a\n",
    "$$\n",
    "Using the identity above and these two commutators gives the equations\n",
    "\\begin{align*}\n",
    "\\frac{\\partial a_{bs(\\theta)}}{\\partial \\theta} &= b_{bs(\\theta)} \\\\ \\frac{\\partial b_{bs(theta)}}{\\partial \\theta} = -a_{bs(\\theta)}\n",
    "\\end{align*}\n",
    "These two equations can be decoupled by taking the second derivative of the first equation with respect to $\\theta$ and inserting it into the second equation, yielding\n",
    "$$\n",
    "\\frac{\\partial ^2 a_{bs(\\theta)}}{\\partial \\theta} + a_{bs(\\theta)} = 0\n",
    "$$\n",
    "This differential equation has sinusoidal solutions $a_{bs(\\theta)} = A e^{i\\theta} + Be^{-i\\theta}$. Putting in the boundary condition $a_{bs(0)} = a$, we get $A+B = a$, and the boundary condition on the first derivative gives $A-B = -ib$. Solving for $A$ and $B$ gives $A = \\frac{a-ib}{2}$ and $B = \\frac{a+ib}{2}$. With this, we see that the creation and annihilation operators on the first qumode transform into linear combination of the creation and annihilation operators respectively on both modes!\n"
   ]
  },
  {
   "cell_type": "markdown",
   "metadata": {},
   "source": [
    "## Sources\n",
    "[1] Lvovsky, A. I. “Squeezed Light.” arXiv, July 28, 2016. http://arxiv.org/abs/1401.4118."
   ]
  }
 ],
 "metadata": {
  "kernelspec": {
   "display_name": "Python 3 (ipykernel)",
   "language": "python",
   "name": "python3"
  },
  "language_info": {
   "codemirror_mode": {
    "name": "ipython",
    "version": 3
   },
   "file_extension": ".py",
   "mimetype": "text/x-python",
   "name": "python",
   "nbconvert_exporter": "python",
   "pygments_lexer": "ipython3",
   "version": "3.10.8"
  },
  "vscode": {
   "interpreter": {
    "hash": "e7370f93d1d0cde622a1f8e1c04877d8463912d04d973331ad4851f04de6915a"
   }
  }
 },
 "nbformat": 4,
 "nbformat_minor": 2
}

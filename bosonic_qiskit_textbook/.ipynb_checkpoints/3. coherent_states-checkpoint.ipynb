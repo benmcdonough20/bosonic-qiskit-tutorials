{
 "cells": [
  {
   "cell_type": "markdown",
   "metadata": {},
   "source": [
    "# Coherent States"
   ]
  },
  {
   "cell_type": "markdown",
   "metadata": {},
   "source": [
    "## What is a coherent state?\n",
    "A coherent state $|\\lambda\\rangle$ is defined as an eigenstate of the annihilation operator $a$ with eigenvalue $\\lambda$. It seems like it would be a contradiction that after removing a photon from a state we could get the same state back, but the resolution to this apparent contradiction lies in the infinite number of states in the state space of the qumode. Setting up the eigenvalue equation for some arbitrary state $|\\psi\\rangle$,\n",
    "$$\n",
    "a|\\psi\\rangle = \\lambda|\\psi\\rangle \\Rightarrow  \\sum_{n=0}^\\infty c_n a|n\\rangle = \\sum_{n=0}^{\\infty}c_n \\sqrt{n}|n-1\\rangle = \\sum_{n=0}^\\infty\\lambda c_n|n\\rangle\n",
    "$$\n",
    "Equatin the coefficients on the $n = m$ state, we find that $c_{m} = \\frac{\\lambda}{\\sqrt{m}}c_{m-1}$. This means that $c_1 = \\lambda c_0$, $c_2 = \\frac{\\lambda}{\\sqrt{2}}c_1 = \\frac{\\lambda^2}{\\sqrt{2}}c_0$, and so on, arriving at the general formula $c_m = \\frac{\\lambda^m}{\\sqrt{m!}}c_0$. Now, we can find the value of $c_0$ by imposing the $|\\psi\\rangle$ is normalized:\n",
    "$$\n",
    "\\langle \\psi | \\psi \\rangle = |c_0|^2\\sum_{mn} \\frac{\\lambda^n(\\lambda^\\ast)^m}{\\sqrt{n!m!}}\\langle m | n\\rangle = c_0\\sum_{n}\\frac{(|\\lambda|^2)^n}{n!} = |c_0|^2 e^{|\\lambda|^2}\n",
    "$$\n",
    "Enforcing that this value must equal 1 gives $|c_0|^2 = e^{-|\\lambda|^2}$. Plugging this in give general formula for a coherent state in the Fock basis:\n",
    "$$\n",
    "|\\lambda\\rangle = e^{-|\\lambda|^2/2}\\sum_{n=0}^{\\infty}\\frac{\\lambda^n}{\\sqrt{n!}}|n\\rangle\n",
    "$$\n",
    "\n",
    "We see that the contradiction is resolved by a superposition of an infinite number of Fock states such that when a photon is removed from one state, the next one up drops in to take its place, continuing ad. infinitum."
   ]
  },
  {
   "cell_type": "markdown",
   "metadata": {},
   "source": [
    "## Fock number distribution\n",
    "The coherent state is one of the few states we've discussed that do not have a definite photon number. The average photon number in a coherent state follows quickly from the eigenvalue equation:\n",
    "$$\n",
    "\\bar n = \\langle \\lambda | \\hat n | \\lambda \\rangle = \\langle \\lambda | a^\\dagger a | \\lambda \\rangle = |\\lambda|^2\n",
    "$$\n",
    "Evidently, coherent states with bigger magnitudes of $\\lambda$ have on average more photons. The average energy, setting the zero-point energy to be zero, is $\\bar E = \\hbar \\omega \\bar n = \\hbar \\omega |\\lambda|^2$. If this is the mean photon number, then it is reasonable to ask what the distribution of the photon number would be if measured in the number basis. Using the Borne rule,\n",
    "$$\n",
    "p\\lambda(m) = |\\langle m |\\lambda \\rangle|^2 = e^{-|\\lambda|^2}\\left|\\sum_{n}^{\\infty} \\frac{\\lambda^n\\langle m | n\\rangle}{\\sqrt{n!}}\\right|^2 = \\frac{e^{-|\\lambda|^2}(|\\lambda|^2)^n}{n!}\n",
    "$$\n",
    "This is recognizable as a Poisson distribution with mean $|\\lambda|^2$ and a standard deviation $|\\lambda|$. One important consequence of this fact is that the ratio of the mean energy to the standard deviation of the energy is\n",
    "$$\n",
    "\\frac{\\Delta^\\ast E}{\\overline E} = |\\lambda|^{-1}\n",
    "$$\n",
    "This implies that as $|\\lambda|$ increases to macroscopic energies, the energy of the state has a tiny deviation relative to the mean, so it can be treated as approximately definite. This is useful for exploring the classical correspondence limit, which we will do in a second."
   ]
  },
  {
   "cell_type": "markdown",
   "metadata": {},
   "source": [
    "## Vanishing overlap\n",
    "So far, we have only explored the orthonormal sets of eigenkets of $\\hat x$ and $\\hat n$. The orthonormality of these kets is implied by the fact that both $\\hat x$ and $\\hat n$ are Hermitian, i.e. $[\\hat x, \\hat x^\\dagger] = 0$ and $[\\hat n, \\hat n^\\dagger]=0$. However $[a,a^\\dagger]=1$, so $a$ does not have an orthonormal eigenbasis. If two coherent states $|\\theta\\rangle$, $|\\lambda\\rangle$ are not orthogonal, then they have some non-trivial inner product. For simplicity, take $|\\lambda\\rangle$ and $|\\theta\\rangle$ to be two coherent states where both $\\lambda$ and $\\theta$ are real.\n",
    "$$\n",
    "\\langle \\theta' | \\lambda' \\rangle = e^{-(\\theta)^2/2-(\\lambda')^2/2}\\sum_{m,n}\\frac{(\\theta')^m(\\lambda')^n\\langle m | n \\rangle}{\\sqrt{n!m!}}\n",
    "= e^{-(\\theta')^2/2-(\\lambda')^2/2}\\sum_{m,n}\\frac{(\\theta'\\lambda')^n}{n!}\n",
    "= e^{-(\\theta')^2/2+\\lambda'\\theta' -(\\lambda')^2/2}\n",
    "= e^{-(\\theta'-\\lambda')^2}\n",
    "$$\n",
    "It can be shown that for a general (possibly imaginary) $\\theta$ and $\\lambda$, this expression becomes \n",
    "$$\n",
    "\\langle \\theta | \\lambda \\rangle = e^{-|\\lambda-\\theta|^2}\n",
    "$$\n",
    "This gives a condition that as $\\lambda$ and $\\theta$ get farther apart in the complex plane, the overlap $\\langle \\theta | \\lambda \\rangle$ gets exponentially smaller. This fact becomes important when coherent states are used as aproximately orthogonal states.\n",
    "\n",
    "**Exercise:** Read `gates.ipynb` and modify this proof for a general $\\lambda, \\theta \\in \\mathbb{C}$. Use the fact that the *displacement* and *phase space rotation* gates are unitary, and therefore preserver inner products."
   ]
  },
  {
   "cell_type": "markdown",
   "metadata": {},
   "source": [
    "## Minimizing uncertainty\n",
    "Consider the ground state $|0\\rangle$. Using $\\hat X = \\frac{a+a^\\dagger}{\\sqrt{2}}$ and $\\hat P = \\frac{a-a^\\dagger}{i\\sqrt{2}}$, we have\n",
    "$$\n",
    "\\langle 0 | P | 0 \\rangle = \\langle 0| X  |0 \\rangle = 0\n",
    "$$\n",
    "Using the commutator $[a,a^\\dagger] = 1$, we expand\n",
    "$$\n",
    "\\hat X^2 = \\frac{1}{2}(a^2+a^\\dagger a+aa^\\dagger+(a^\\dagger)^2) = \n",
    "\\frac{a^2}{2}+a^\\dagger a+\\frac{1}{2}+\\frac{(a^\\dagger)^2}{2}\n",
    "$$\n",
    "With this, alongside the fact that $a|0\\rangle = \\langle 0 |a^\\dagger = 0$, we find the variance of $X$:\n",
    "$$\n",
    "\\langle 0 |(\\delta X)^2 |0\\rangle = \\langle 0 | \\hat X^2 | 0\\rangle - \\langle 0 | \\hat X | 0 \\rangle^2 =  \\frac{1}{2}\n",
    "$$\n",
    "Then observing that $\\langle 0 |H|0\\rangle = \\frac{\\hbar\\omega}{2}(\\langle 0 |\\hat P^2|0 \\rangle+\\langle 0|\\hat X^2|0 \\rangle)$, where this Hamiltonian corresponds to a zero-point energy $\\langle 0|H|0\\rangle = \\frac{\\hbar \\omega}{2}$, we calculate $\\langle 0|\\hat P^2|0 \\rangle = \\frac{1}{2}$. This gives\n",
    "$$\n",
    "\\langle (\\delta P)^2 \\rangle = \\frac{1}{2}\n",
    "$$\n",
    "putting these together, we see that $\\langle(\\delta P)^2\\rangle\\langle (\\delta X)^2 \\rangle = \\frac{1}{4}$, Since $[\\hat X,\\hat P]=i$, this makes the ground state of the qumode a minimum-uncertainty state.\n",
    "\n",
    "In `gates.ipynb`, it is shown that coherent states are ground states that have been displaced in phase space using the *displacement operator*. We also derive the transformation of the operators $\\hat X$ and $\\hat P$ under displacement:\n",
    "\n",
    "\\begin{align*}\n",
    "D^\\dagger(\\theta)\\hat X D(\\theta) &= \\frac{a+\\theta + a^\\dagger + \\theta^\\ast}{\\sqrt{2}} = \\hat X+\\sqrt{2}\\operatorname{Re}(\\theta)\\\\\n",
    "D^\\dagger(\\theta)\\hat P D(\\theta) &= \\frac{a+\\theta - a^\\dagger - \\theta^\\ast}{i\\sqrt{2}} = \\hat P+\\sqrt{2}\\operatorname{Im}(\\theta)\n",
    "\\end{align*}\n",
    "Since $X$ and $P$ are only shifted by the displacement and not rescaled, the variances of $X$ and $P$ are left unchanged. This makes every coherent state $|\\theta\\rangle$ a minimum uncertainty state with the symmetrical uncertainties $\\langle (\\delta X) \\rangle^2 = \\langle (\\delta P)^2 \\rangle = \\frac{1}{2}$.  "
   ]
  },
  {
   "cell_type": "markdown",
   "metadata": {},
   "source": [
    "## The correspondence limit\n",
    "As discussed in `operations.ipynb`, the Hamiltonian, or energy operator for the qumode is proportional to the number operator:\n",
    "$$\n",
    "H = \\omega \\hbar N\n",
    "$$\n",
    "Shrodinger's equation is a differential equation relating the evolution of the wavefunction in time to the Hamiltonian:\n",
    "$$\n",
    "i\\hbar \\frac{\\partial}{\\partial t}|\\psi\\rangle = H|\\psi\\rangle\n",
    "$$\n",
    "Since $H$ does not depend on time, this equation can be integrated directly to get\n",
    "$$\n",
    "|\\psi, t\\rangle = e^{-i \\omega N t}|\\psi\\rangle = r(-\\omega t)|\\psi\\rangle\n",
    "$$\n",
    "Where we have written the resulting operator in terms of the phase space rotation operator. As shown above, applying the phase space rotation to a coherent state results in another coherent state:\n",
    "$$\n",
    "|\\lambda, t\\rangle = r(-\\omega t)|\\lambda\\rangle = |e^{-i\\omega t}\\lambda \\rangle\n",
    "$$\n",
    "As we have shown, $\\langle X \\rangle_0 = \\langle P \\rangle_0 = 0$. Using the displaced operators $X$ and $P$ from above, and defining $\\phi \\equiv \\arg(\\lambda)$, \n",
    "\\begin{align*}\n",
    "    \\langle X \\rangle_\\lambda &= \\sqrt{2}\\operatorname{Re}(e^{-i\\omega t}\\lambda) = |\\lambda|\\sqrt{2}\\cos(\\omega t+\\phi) & \\langle P \\rangle_\\lambda = \\sqrt{2}\\operatorname{Im}(e^{-i\\omega t}\\lambda) = -|\\lambda|\\sqrt{2}\\sin(\\omega t+\\phi)\n",
    "\\end{align*}\n",
    "Moving into the rescaled coordinates that produce the Harmonic oscillator potential, we have\n",
    "\\begin{align*}\n",
    "    \\langle x \\rangle_\\lambda &= (m\\omega/\\hbar)^{-\\frac{1}{2}}\\langle X \\rangle_\\lambda = \\langle x(0)\\rangle\\cos(\\omega t+\\phi)\\\\\n",
    "    \\langle p \\rangle_\\lambda &= (m \\omega \\hbar)^{\\frac{1}{2}}\\langle P\\rangle_\\lambda = -m\\omega \\langle x(0)\\rangle \\sin(\\omega t +\\phi)\n",
    "\\end{align*}\n",
    "Compare this to a classical harmonic oscillator, like the one depicted below:\n",
    "\n",
    "![A classical harmonic oscillator](./figures/oscillator.svg )\n",
    "\n",
    "Taking $k = m\\omega^2$, Newton's 2nd Law says that $x''(t) = -m\\omega x(t)$, and the solution to this equation is $x(t) = x(0)\\cos(\\omega t + \\phi)$. Using $p=mx'$, we recover $p(t) = -m\\omega x(0)\\sin(\\omega t + \\phi)$. Evidently, the expectation value of the coherent state evolves under the same equations of motion as a classical harmonic oscillator."
   ]
  }
 ],
 "metadata": {
  "kernelspec": {
   "display_name": "Python 3 (ipykernel)",
   "language": "python",
   "name": "python3"
  },
  "language_info": {
   "codemirror_mode": {
    "name": "ipython",
    "version": 3
   },
   "file_extension": ".py",
   "mimetype": "text/x-python",
   "name": "python",
   "nbconvert_exporter": "python",
   "pygments_lexer": "ipython3",
   "version": "3.10.4"
  },
  "vscode": {
   "interpreter": {
    "hash": "e7370f93d1d0cde622a1f8e1c04877d8463912d04d973331ad4851f04de6915a"
   }
  }
 },
 "nbformat": 4,
 "nbformat_minor": 2
}

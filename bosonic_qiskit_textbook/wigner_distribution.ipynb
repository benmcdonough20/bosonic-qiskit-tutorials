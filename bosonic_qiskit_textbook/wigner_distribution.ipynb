{
 "cells": [
  {
   "cell_type": "markdown",
   "metadata": {},
   "source": [
    "# Wigner Quasiprobability Distribution"
   ]
  },
  {
   "attachments": {},
   "cell_type": "markdown",
   "metadata": {},
   "source": [
    "The Wigner distribution is an important tools for visualizing quantum states, and it is especially useful for visualizing the states of qumodes. As discussed in `operations.ipynb`, the Hamiltonian of a qumode is readily written down in terms of the operators $x$ and $p$, which satisfy the canonical commutation relationship $[x,p] = -i\\hbar$, making them conjugate phase space variables. We also saw that the expectation values $\\langle x\\rangle$ and $\\langle p \\rangle$ of a coherent state behave just like the classical solutions to a harmonic oscillator, and in the large $\\lambda$ limit, the variance of both $x$ and $p$ stay constant, becoming small in comparison to their means. \n",
    "\n",
    "This is suggestive of the correspondence between the classical phase space variables and the conjugate quantum operators. The biggest problem is that due to the uncertainty principle, there are no simulatneous eigenstates of postition and momentum to serve as an analogue to classical coordinates. The eigenstates of $x$ and $p$ form a continuous basis, and hence are not physically realizable states. \n",
    "\n",
    "A solution to these problems would be to come up with a probability distribution $W_\\psi(x, p)$ such that the marginals of the distribution produce the probability distributions of $x$ and $p$ given by the Borne rule:\n",
    "\\begin{align*}\n",
    "\\int dp W_\\psi(x,p)p &= |\\langle x | \\psi \\rangle|^2\\\\\n",
    "\\int dx W_\\psi(x,p)x &= |\\langle p | \\psi \\rangle|^2\\\\\n",
    "\\end{align*}\n"
   ]
  },
  {
   "attachments": {},
   "cell_type": "markdown",
   "metadata": {},
   "source": [
    "## The Weyl Transformation\n",
    "In order to create a phase-space theory, we would first need a mapping between an operator $\\hat A$ and a function on phase-space $\\widetilde A(x,p)$ that can reproduce the observable $\\langle A \\rangle$? In 1927, Hermann Weyl attempted to connect quantum mechanics and classical mechanics by creating the eponymous Weyl Transformation:\n",
    "$$\n",
    "\\widetilde A(x,p) = \\int dy e^{-ipy/\\hbar}\\langle x-\\frac{y}{2}| \\hat A |x+\\frac{y}{2}\\rangle\n",
    "$$\n",
    "Where the kets indicate position eigenkets.\n",
    "It can be shown that the Weyl transformation can also be written as\n",
    "$$\n",
    "\\widetilde A(x,p) = \\int du e^{-ixu/\\hbar}\\langle p-\\frac{u}{2}| \\hat A |p+\\frac{u}{2}\\rangle\n",
    "$$\n",
    "\n",
    "**Excercise:** Prove this assertion using the identities $\\int dp' |p'\\rangle\\langle p'| = \\mathbb{I}$, where $\\mathbb{I}$ is the identity operator and the integral is understood to extend over all momenta, and $\\int dp e^{-ipy} = 2\\pi\\delta(y)$.\n",
    "\n",
    "The Weyl transform has the property that $\\frac{1}{2\\pi \\hbar}\\int dx dp A(x,p)B(x,p) = \\operatorname{tr}\\{AB\\}$. Using the two identities from the excercise above,\n",
    "\\begin{align*}\n",
    "\\int dx dp \\widetilde A(x,p) \\widetilde B(x,p) &= \\int dx dp dy dy' e^{-ip(y+y')/\\hbar}\\langle x-\\frac{y}{2}| \\hat A |x+\\frac{y}{2}\\rangle\\langle x-\\frac{y'}{2}| \\hat B |x+\\frac{y'}{2}\\rangle\\\\\n",
    "&= \\int dx dy dy' \\langle x-\\frac{y}{2}| \\hat A |x+\\frac{y}{2}\\rangle\\langle x-\\frac{y'}{2}| \\hat B |x+\\frac{y'}{2}\\rangle\\int dp e^{-ip(y+y')/\\hbar}\\\\\n",
    "&= 2\\pi \\hbar\\int dx dy dy' \\langle x-\\frac{y}{2}| \\hat A |x+\\frac{y}{2}\\rangle\\langle x-\\frac{y'}{2}| \\hat B |x+\\frac{y'}{2}\\rangle \\delta(y+y')\\\\\n",
    "&= 2\\pi \\hbar\\int dx dy\\langle x-\\frac{y}{2}| \\hat A |x+\\frac{y}{2}\\rangle\\langle x+\\frac{y}{2}| \\hat B |x-\\frac{y}{2}\\rangle\n",
    "\\end{align*}\n",
    "Then by defining $u = x+ \\frac{y}{2}$ and $v = x-\\frac{y}{2}$, recovering\n",
    "$$\n",
    "= 2\\pi\\hbar\\int dudv\\langle v| \\hat A |u\\rangle\\langle u| \\hat B |v\\rangle = \\int dv \\langle v | \\hat A\\hat B | v \\rangle  = \\operatorname{tr}\\{\\hat A\\hat B\\}\n",
    "$$"
   ]
  },
  {
   "attachments": {},
   "cell_type": "markdown",
   "metadata": {},
   "source": [
    "## Observables\n",
    "The *density operator* of a pure state is defined to be $\\rho = |\\psi\\rangle \\langle \\psi$. If $A$ is a Hermitian observable with a set of eigenkets $|a'\\rangle$ with eigenvalues $a'$, then the measurement probabilities given by the Borne rule can be conveniently written using the density matrix:\n",
    "$$\n",
    "|\\langle x | \\psi \\rangle|^2 = \\langle x | \\rho | x \\rangle\n",
    "$$\n",
    "Accordingly, the expectation value of $A$ is\n",
    "$$\n",
    "\\langle A \\rangle_\\psi = \\sum_{a'}a'\\langle a'|\\rho |a'\\rangle = \\sum_{a'}\\langle a'|\\rho A |a'\\rangle = \\operatorname{tr}(\\rho\\hat A)\n",
    "$$\n",
    "Thus, the trace property of the Weyl transform can be used to calculate expectation values of observables:\n",
    "$$\n",
    "\\langle A \\rangle = \\frac{1}{2\\pi\\hbar} \\int dxdp \\widetilde \\rho(x,y)\\widetilde A(x,y)\n",
    "$$"
   ]
  },
  {
   "attachments": {},
   "cell_type": "markdown",
   "metadata": {},
   "source": [
    "## The Wigner Function\n",
    "The Wigner function is up to a constant a Weyl transform of the density operator:\n",
    "$$\n",
    "W_\\rho(x,p) = \\frac{1}{2\\pi \\hbar}\\int dy e^{-ipy/\\hbar}\\langle x - \\frac{y}{2}| \\rho | x + \\frac{y}{2} \\rangle\n",
    "$$\n",
    "This function is the solution to the original problem of expressing a quantum state as a probability distribution on phase space:\n",
    "\\begin{align*}\n",
    "    \\int dp W_{\\rho}(x,p) &= \\frac{1}{2\\pi \\hbar}\\int dp dy e^{-ipy/\\hbar}\\langle x-\\frac{y}{2}|\\rho|x+\\frac{y}{2}\\rangle \\\\\n",
    "    &= \\frac{1}{2\\pi \\hbar}\\int dy \\langle x-\\frac{y}{2}|\\rho|x+\\frac{y}{2}\\rangle\\int dp e^{-ipy/\\hbar} \\\\\n",
    "     &= \\int dy \\langle x-\\frac{y}{2}|\\rho|x+\\frac{y}{2}\\rangle \\delta(y)\\\\\n",
    "     &= \\langle x|\\rho|x\\rangle = |\\langle x | \\psi \\rangle |^2\\\\\n",
    "\\end{align*}\n",
    "Virtually the same calculation shows that\n",
    "$$\n",
    "\\int dx W_{\\rho}(x,p)x = \\langle p | \\rho | p \\rangle = |\\langle p | \\psi\\rangle |^2\n",
    "$$\n",
    "\n",
    "The Wigner Function behaves like a probability distribution on phase space, and uniquely corresponds to a desntiy matrix. Like a probability distribution, it is normalized:\n",
    "$$\n",
    "\\int dx dp W_{\\rho}(x,p) = \n",
    "\\frac{1}{2\\pi \\hbar}\\int dx dp dy  e^{-ipy/\\hbar}\\langle x-\\frac{y}{2}|\\rho|x+\\frac{y}{2}\\rangle = \n",
    "\\int dx \\langle x|\\rho|x\\rangle = 1\n",
    "$$"
   ]
  },
  {
   "attachments": {},
   "cell_type": "markdown",
   "metadata": {},
   "source": [
    "## Non-classicality\n",
    "Ultimately, the mission to create a classical probability distribution representing a quantum state in phase space is unsuccessful. Although the Wigner function has many of the features of a regular probability distribution, including the correct marginals and normalization, the stark difference is that the Wigner function can take on *negative* values. This can be proven using the trace property of the Weyl transform on two orthogonal states $|\\psi_1\\rangle$ and $|\\psi_2\\rangle$, with corresponding density operators $\\rho_1$ and $\\rho_2$:\n",
    "$$\n",
    "\\operatorname{tr}\\{\\rho_1\\rho_2\\} = \\int dp dx W_1(x,p)W_2(x,p)\n",
    "$$\n",
    "But $\\operatorname{tr}\\{\\rho_1\\rho_2\\} = |\\langle \\psi_1 | \\psi_2 \\rangle|^2 = 0$, so this entire integral vanishes! This shows that $W_1(x,p)$ or $W_2(x,p)$ must take on negative values at some points. These negative probabilities make the Wigner Function a quasiprobability distribution on phase space, which does not resemble any classical state."
   ]
  },
  {
   "attachments": {},
   "cell_type": "markdown",
   "metadata": {},
   "source": [
    "## Wigner function of a minimum-uncertainty state\n",
    "\n",
    "It turns out that minimum uncertainty states are in some sense more classical than other states, and this can be seen by examining the Wigner function of such a state. Again define the operators $\\delta x = x -\\langle x \\rangle$ and $\\delta p = p-\\langle p \\rangle$. If $|\\alpha\\rangle$ is a minimum-uncertainty state, then \n",
    "$$\n",
    "\\langle (\\delta x)^2 \\rangle \\langle (\\delta p^2) \\rangle = \\frac{1}{4}|\\langle [x,p] \\rangle|^2\n",
    "$$\n",
    "The Cauchy-Schwarz inequality gives\n",
    "$$\n",
    "\\langle (\\delta x^2) \\rangle \\langle (\\delta p^2) \\rangle \\geq |\\langle \\delta x \\delta p\\rangle|^2 = \\frac{1}{4}|\\langle [x,p] + \\{x,p\\}\\rangle|^2\n",
    "$$\n",
    "Since $[x,p]$ is anti-hermitian, $\\langle [x,p] \\rangle$ is imaginary, and since $\\{x,p\\}$ is Hermitian, $\\langle \\{x,p\\} \\rangle$ is real. This shows that\n",
    "$$\n",
    "\\frac{1}{4}|\\langle [x,p] + \\{x,p\\}\\rangle|^2 = \\frac{1}{4}|\\langle [x,p] \\rangle |^2 + \\frac{1}{4}| \\langle \\{x,p\\} \\rangle |^2\n",
    "$$\n",
    "In order for the uncertainty principle to be saturated, we thus need $\\langle \\alpha |\\{x,p\\} | \\alpha \\rangle = 0$. Then, we need to saturate the Cauchy-Schwarz inequality, which means the vectos must be parallel: $\\delta x |\\alpha \\rangle = c \\delta p |\\alpha \\rangle$, where $c$ is some constant. Combining this with $\\langle \\{x,p\\} \\rangle = 0$, we then have\n",
    "$$\n",
    "\\langle \\alpha |xp+px | \\alpha \\rangle = c^\\ast\\langle \\alpha | p^2 | \\alpha \\rangle+c\\langle \\alpha | p^2 |\\alpha \\rangle = 0\n",
    "$$\n",
    "This implies that $c^\\ast = -c$, so $c = -ir$, where $r$ is real. We choose $-ir$ intead of $ir$ freely, but this choice will make things simpler later on. Using the position-space representation of momentum $\\langle x | p | \\alpha\\rangle = -i\\hbar \\frac{\\partial}{\\partial x}\\psi_\\alpha$, this gives an equation for the wavefunction:\n",
    "$$\n",
    "\\langle x | x |\\alpha \\rangle = -ir \\langle x | p | \\alpha \\rangle \\ \\Rightarrow \\ (x-\\langle x \\rangle)\\psi_\\alpha = -\\hbar r \\left(\\frac{\\partial \\psi_\\alpha}{\\partial x}-\\langle p \\rangle\\right)\n",
    "$$\n",
    "Let $\\mu \\equiv \\langle x \\rangle + r\\hbar \\langle p \\rangle$. This is a separable differential equation, which is readily solved:\n",
    "$$\n",
    "-\\frac{1}{\\hbar r}\\int x-\\mu \\ dx = \\int \\frac{d\\psi_\\alpha}{\\psi_\\alpha} \\Rightarrow \\psi_\\alpha = ce^{-\\frac{(x-\\mu)^2}{2\\hbar r}}\n",
    "$$\n",
    "Where $c$ is a constant normalizing the wavefunction. Since quantum states must be normalizable, we have $r > 0$. Remarkably, this shows that every minimum-uncertainty state has a Gaussian wavfunction in position space. Since the Fourier transform of a Gaussian is a Gaussian, the momentum-space wavefunction is also a Gaussian.\n",
    "\n",
    "Armed with this, we can now find the Wigner function of $|\\alpha\\rangle$. We see that\n",
    "\\begin{align*}\n",
    "\\langle x-\\frac{y}{2} |\\alpha \\rangle &\\propto ce^{\\frac{(x-\\frac{y}{2}-\\mu)^2}{2\\hbar r}} &\n",
    "\\langle \\alpha | x + \\frac{y}{2} \\rangle &\\propto c^\\ast e^{\\frac{(x+\\frac{y}{2}-\\mu)^2}{2\\hbar r}}\n",
    "\\end{align*}\n",
    "Since $(x-\\frac{y}{2}-\\mu)^2+(x+\\frac{y}{2}-\\mu)^2 = 2(x-\\mu)^2+\\frac{y^2}{4}$, we can then compute the Wigner function:\n",
    "$$\n",
    "W_\\alpha(x,p) =  |c|^2e^{-\\frac{(x-\\mu)^2}{\\hbar r}}\\int dp e^{-ipy}e^{-\\frac{y^2}{4\\hbar r}}\n",
    "$$\n",
    "The last term is just the Fourier transform of a Gaussian, and it is well-known that the Fourier transform of a Gaussian is another Gaussian. This makes $W_\\alpha(x,p)$ a product of a Gaussian in $x$ and a Gaussian in $p$. As expected, both marginal distributions are Gaussian. In addition, the Wigner function is completely positive. Earlier, we said that the negativity of the Wigner distribution was a sign of the non-classicality of quantum states. The fact the the Wigner function of a minimum-uncertainty state is positive indicates that these states are in some sense the \"most classical.\""
   ]
  }
 ],
 "metadata": {
  "kernelspec": {
   "display_name": "Python 3",
   "language": "python",
   "name": "python3"
  },
  "language_info": {
   "codemirror_mode": {
    "name": "ipython",
    "version": 3
   },
   "file_extension": ".py",
   "mimetype": "text/x-python",
   "name": "python",
   "nbconvert_exporter": "python",
   "pygments_lexer": "ipython3",
   "version": "3.10.8 (main, Nov  1 2022, 14:18:21) [GCC 12.2.0]"
  },
  "orig_nbformat": 4,
  "vscode": {
   "interpreter": {
    "hash": "e7370f93d1d0cde622a1f8e1c04877d8463912d04d973331ad4851f04de6915a"
   }
  }
 },
 "nbformat": 4,
 "nbformat_minor": 2
}

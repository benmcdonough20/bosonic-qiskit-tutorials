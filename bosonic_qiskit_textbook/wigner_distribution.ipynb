{
 "cells": [
  {
   "cell_type": "markdown",
   "metadata": {},
   "source": [
    "# Wigner Quasiprobability Distribution"
   ]
  },
  {
   "attachments": {},
   "cell_type": "markdown",
   "metadata": {},
   "source": [
    "The Wigner distribution is an important tools for visualizing quantum states, and it is especially useful for visualizing the states of qumodes. As discussed in `operations.ipynb`, the Hamiltonian of a qumode is readily written down in terms of the operators $x$ and $p$, which satisfy the canonical commutation relationship $[x,p] = -i\\hbar$, making them conjugate phase space variables. We also saw that the expectation values $\\langle x\\rangle$ and $\\langle p \\rangle$ of a coherent state behave just like the classical solutions to a harmonic oscillator, and in the large $\\lambda$ limit, the variance of both $x$ and $p$ stay constant, becoming small in comparison to their means. \n",
    "\n",
    "This is suggestive of the correspondence between the classical phase space variables and the conjugate quantum operators. The biggest problem is that due to the uncertainty principle, there are no simulatneous eigenstates of postition and momentum to serve as an analogue to classical coordinates. The eigenstates of $x$ and $p$ form a continuous basis, and hence are not physically realizable states. \n",
    "\n",
    "A solution to these problems would be to come up with a probability distribution $W_\\psi(x, p)$ such that the marginals of the distribution produce the probability distributions of $x$ and $p$ given by the Borne rule:\n",
    "\\begin{align*}\n",
    "\\int dp W_\\psi(x,p)p &= |\\langle x | \\psi \\rangle|^2\\\\\n",
    "\\int dx W_\\psi(x,p)x &= |\\langle p | \\psi \\rangle|^2\\\\\n",
    "\\end{align*}\n"
   ]
  },
  {
   "attachments": {},
   "cell_type": "markdown",
   "metadata": {},
   "source": [
    "## The Weyl Transformation\n",
    "In order to create a phase-space theory, we would first need a mapping between an operator $\\hat A$ and a function on phase-space $\\widetilde A(x,p)$ that can reproduce the observable $\\langle A \\rangle$? In 1927, Hermann Weyl attempted to connect quantum mechanics and classical mechanics by creating the eponymous Weyl Transformation:\n",
    "$$\n",
    "\\widetilde A(x,p) = \\int dy e^{-ipy/\\hbar}\\langle x-\\frac{y}{2}| \\hat A |x+\\frac{y}{2}\\rangle\n",
    "$$\n",
    "Where the kets indicate position eigenkets.\n",
    "It can be shown that the Weyl transformation can also be written as\n",
    "$$\n",
    "\\widetilde A(x,p) = \\int du e^{-ixu/\\hbar}\\langle p-\\frac{u}{2}| \\hat A |p+\\frac{u}{2}\\rangle\n",
    "$$\n",
    "\n",
    "**Excercise:** Prove this assertion using the identities $\\int dp' |p'\\rangle\\langle p'| = \\mathbb{I}$, where $\\mathbb{I}$ is the identity operator and the integral is understood to extend over all momenta, and $\\int dp e^{-ipy} = 2\\pi\\delta(y)$.\n",
    "\n",
    "The Weyl transform has the property that $\\frac{1}{2\\pi \\hbar}\\int dx dp A(x,p)B(x,p) = \\operatorname{tr}\\{AB\\}$. Using the two identities from the excercise above,\n",
    "\\begin{align*}\n",
    "\\int dx dp \\widetilde A(x,p) \\widetilde B(x,p) &= \\int dx dp dy dy' e^{-ip(y+y')/\\hbar}\\langle x-\\frac{y}{2}| \\hat A |x+\\frac{y}{2}\\rangle\\langle x-\\frac{y'}{2}| \\hat B |x+\\frac{y'}{2}\\rangle\\\\\n",
    "&= \\int dx dy dy' \\langle x-\\frac{y}{2}| \\hat A |x+\\frac{y}{2}\\rangle\\langle x-\\frac{y'}{2}| \\hat B |x+\\frac{y'}{2}\\rangle\\int dp e^{-ip(y+y')/\\hbar}\\\\\n",
    "&= 2\\pi \\hbar\\int dx dy dy' \\langle x-\\frac{y}{2}| \\hat A |x+\\frac{y}{2}\\rangle\\langle x-\\frac{y'}{2}| \\hat B |x+\\frac{y'}{2}\\rangle \\delta(y+y')\\\\\n",
    "&= 2\\pi \\hbar\\int dx dy\\langle x-\\frac{y}{2}| \\hat A |x+\\frac{y}{2}\\rangle\\langle x+\\frac{y}{2}| \\hat B |x-\\frac{y}{2}\\rangle\n",
    "\\end{align*}\n",
    "Then by defining $u = x+ \\frac{y}{2}$ and $v = x-\\frac{y}{2}$, recovering\n",
    "$$\n",
    "= 2\\pi\\hbar\\int dudv\\langle v| \\hat A |u\\rangle\\langle u| \\hat B |v\\rangle = \\int dv \\langle v | \\hat A\\hat B | v \\rangle  = \\operatorname{tr}\\{\\hat A\\hat B\\}\n",
    "$$"
   ]
  },
  {
   "attachments": {},
   "cell_type": "markdown",
   "metadata": {},
   "source": [
    "## Observables\n",
    "The *density operator* of a pure state is defined to be $\\rho = |\\psi\\rangle \\langle \\psi$. If $A$ is a Hermitian observable with a set of eigenkets $|a'\\rangle$ with eigenvalues $a'$, then the measurement probabilities given by the Borne rule can be conveniently written using the density matrix:\n",
    "$$\n",
    "|\\langle x | \\psi \\rangle|^2 = \\langle x | \\rho | x \\rangle\n",
    "$$\n",
    "Accordingly, the expectation value of $A$ is\n",
    "$$\n",
    "\\langle A \\rangle_\\psi = \\sum_{a'}a'\\langle a'|\\rho |a'\\rangle = \\sum_{a'}\\langle a'|\\rho A |a'\\rangle = \\operatorname{tr}(\\rho\\hat A)\n",
    "$$\n",
    "Thus, the trace property of the Weyl transform can be used to calculate expectation values of observables:\n",
    "$$\n",
    "\\langle A \\rangle = \\frac{1}{2\\pi\\hbar} \\int dxdp \\widetilde \\rho(x,y)\\widetilde A(x,y)\n",
    "$$"
   ]
  },
  {
   "attachments": {},
   "cell_type": "markdown",
   "metadata": {},
   "source": [
    "## The Wigner Function\n",
    "The Wigner function is up to a constant a Weyl transform of the density operator:\n",
    "$$\n",
    "W_\\rho(x,p) = \\frac{1}{2\\pi \\hbar}\\int dy e^{-ipy/\\hbar}\\langle x - \\frac{y}{2}| \\rho | x + \\frac{y}{2} \\rangle\n",
    "$$\n",
    "This function is the solution to the original problem of expressing a quantum state as a probability distribution on phase space:\n",
    "\\begin{align*}\n",
    "    \\int dp W_{\\rho}(x,p)p &= \\frac{1}{2\\pi \\hbar}\\int dp dy e^{-ipy/\\hbar}\\langle x-\\frac{y}{2}|\\rho|x+\\frac{y}{2}\\rangle \\\\\n",
    "    \\int dp W_{\\rho}(x,p)p &= \\frac{1}{2\\pi \\hbar}\\int dy \\langle x-\\frac{y}{2}|\\rho|x+\\frac{y}{2}\\rangle\\int dp e^{-ipy/\\hbar} \\\\\n",
    "    \\int dp W_{\\rho}(x,p)p &= \\int dy \\langle x-\\frac{y}{2}|\\rho|x+\\frac{y}{2}\\rangle \\delta(y)\\\\\n",
    "    \\int dp W_{\\rho}(x,p)p &= \\langle x|\\rho|x\\rangle = |\\langle p | \\psi \\rangle |^2\\\\\n",
    "\\end{align*}\n",
    "Virtually the same calculation shows that\n",
    "$$\n",
    "\\int dx W_{\\rho}(x,p)x = \\langle p | \\rho | p \\rangle = |\\langle x | \\psi |x \\rangle |^2\n",
    "$$\n",
    "\n",
    "The Wigner Function behaves like a probability distribution on phase space, and uniquely corresponds to a desntiy matrix. Like a probability distribution, it is normalized:\n",
    "$$\n",
    "\\int dx dp W_{\\rho}(x,p) = \n",
    "\\frac{1}{2\\pi \\hbar}\\int dx dp dy  e^{-ipy/\\hbar}\\langle x-\\frac{y}{2}|\\rho|x+\\frac{y}{2}\\rangle = \n",
    "\\int dx \\langle x|\\rho|x\\rangle = 1\n",
    "$$"
   ]
  },
  {
   "attachments": {},
   "cell_type": "markdown",
   "metadata": {},
   "source": [
    "## Negativity"
   ]
  },
  {
   "attachments": {},
   "cell_type": "markdown",
   "metadata": {},
   "source": [
    "## Shift in expectation values"
   ]
  }
 ],
 "metadata": {
  "kernelspec": {
   "display_name": "Python 3",
   "language": "python",
   "name": "python3"
  },
  "language_info": {
   "codemirror_mode": {
    "name": "ipython",
    "version": 3
   },
   "file_extension": ".py",
   "mimetype": "text/x-python",
   "name": "python",
   "nbconvert_exporter": "python",
   "pygments_lexer": "ipython3",
   "version": "3.10.8"
  },
  "orig_nbformat": 4,
  "vscode": {
   "interpreter": {
    "hash": "e7370f93d1d0cde622a1f8e1c04877d8463912d04d973331ad4851f04de6915a"
   }
  }
 },
 "nbformat": 4,
 "nbformat_minor": 2
}

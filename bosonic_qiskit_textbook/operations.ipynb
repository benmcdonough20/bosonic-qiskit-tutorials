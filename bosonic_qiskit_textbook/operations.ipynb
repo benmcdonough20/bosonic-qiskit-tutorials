{
 "cells": [
  {
   "attachments": {},
   "cell_type": "markdown",
   "metadata": {},
   "source": [
    "# Operations"
   ]
  },
  {
   "cell_type": "markdown",
   "metadata": {},
   "source": [
    "## Basic operations"
   ]
  },
  {
   "attachments": {},
   "cell_type": "markdown",
   "metadata": {},
   "source": [
    "A bit-flip is the obvious operation on a classical bit which is either in the state $0$ or $1$. In addition to the bit value, qubit states also exhibit a phase in the form of a complex scalar multiplying each basis ket. A bit-flip operation on a qubit is described by a $\\sigma^x$ operator. Phase-flips are performed with $\\sigma^z$. A rotation of the qubit by any degree $\\theta$ about any axis $\\hat n$ can be described using these operations alone. Defining the pseudovector $\\vec \\sigma \\equiv (\\sigma^x, i\\sigma^x\\sigma^z, \\sigma^z)$, the operator performing this rotation is\n",
    "$$\n",
    "\\text{Rotation about $\\hat n$ by $\\theta$ degrees} = e^{i\\frac{\\theta}{2}\\hat n \\cdot \\vec \\sigma}\n",
    "$$\n",
    "\n",
    "**Note:** To raise $e$ to a matrix exponent, use the power series representation $e^M = \\sum_{n=0}^\\infty \\frac{M^n}{n!}$"
   ]
  },
  {
   "attachments": {},
   "cell_type": "markdown",
   "metadata": {},
   "source": [
    "If bit-flips and phase-flips are the basic operations we can do to a qubit, what can we do to a qumode? Oftentimes the states of an qumode marching up to infinity are compared to a ladder, where adding a photon to the qumode climbs one rung up the ladder, and removing a photon climbs one rung down the ladder. This motivates us to introduce the so-called *ladder operators* $a$ and $a^\\dagger$. The $a$ is called the annihilation operator because it removes a photon from the qumode, and the $a^\\dagger$ operator is the creation operator because it adds a photon to the qumode. \n",
    "\n",
    "**Note:** The ${}^\\dagger$ operation is called the adjoint. This is simple to define in the finite-dimensional space of a qubit, but can become tricky in the infinite-dimensional space of an oscillator, in particular because operators can be unbounded and may not have an adjoint! We deal with this using the following definition: If $O$ is an operator, $|u\\rangle$ and $|v\\rangle$ are kets, and $\\Big\\langle |u\\rangle, |v\\rangle \\Big\\rangle = \\langle v | u\\rangle$ is the inner product of $|u\\rangle$ and $|v\\rangle$, then $O^\\dagger$ is the adjoint of $O$ iff $\\Big\\langle O^\\dagger|u\\rangle, |v\\rangle \\Big\\rangle = \\Big\\langle |u\\rangle, O|v\\rangle \\Big\\rangle$. Shortly, we will *force* the creation operator to be the adjoint of the annihilation operator, but for now we can just consider $a^\\dagger$ to be a variable name."
   ]
  },
  {
   "attachments": {},
   "cell_type": "markdown",
   "metadata": {},
   "source": [
    "## Ladder operators"
   ]
  },
  {
   "attachments": {},
   "cell_type": "markdown",
   "metadata": {},
   "source": [
    "There are two types of particles in the universe: bosons and fermions. Bosons are defined by the property that if $a,a^\\dagger$ are annihilation and creation operators for a boson, then $[a,a^\\dagger] = 1$. For fermions, the same property applies to the anticommutator. Photons are bosons, so $[a,a^\\dagger]=1$ holds for the quantum harmonic oscillator. The bracket symbol $[\\cdot, \\cdot]$ is called the commutator, and it is defined as\n",
    "$$\n",
    "[A,B] = AB-BA\n",
    "$$\n",
    "The commutator measures the degree to which two operators fail to commute, and the commutator $[a,a^\\dagger] = 1$ has imporant consequences.\n",
    "\n",
    "**Excercise**:\n",
    "Prove the identity $[AB, C] = [A,C]B + A[B,C]$. Assuming that $[A,[A,B]] = [B,[A,B]] = 0$, show that $[A^n, B] = nA^{n-1}[A,B]$. Lastly, under the same assumption, prove that $[e^{A}, B] = e^{A}[A,B]$.\n",
    "\n",
    "### The number operator\n",
    "The first thing we can do with the ladder operators is construct a new operator called the *number operator*:\n",
    "$$\n",
    "N \\equiv a^\\dagger a\n",
    "$$\n",
    "Why is it called the number operator? Using the commutator $[a, a^\\dagger] = 1$, we can work out the commutator of $N$ with $a$:\n",
    "\\begin{align*}\n",
    "[N, a] &= [a,a]a^\\dagger + a[a^\\dagger,a] = -a\n",
    "\\end{align*}\n",
    "Then, we consider a ket $|n\\rangle$ that is an eigenket of $N$ with eigenvalue $n$. We see that\n",
    "\\begin{align*}\n",
    "N(a|n\\rangle) &= (aN+[N,a])|n \\rangle = (n-1)(a|n\\rangle)\n",
    "\\end{align*}\n",
    "This shows us that applying $a$ to $|n\\rangle$ results in an eigenket of $N$ with eigenvalue $n-1$, and so \n",
    "$$\n",
    "a|n\\rangle = c_n|n-1\\rangle\n",
    "$$\n",
    "where $c_n$ is a constant. But $a$ is *defined* to be an operator such that applying it to a state of the qumode removes one photon from the qumode. This means that the state $|n-1\\rangle$ represents a state with one less photon then $|n\\rangle$. We can make the same argument to prove the reverse for $a^\\dagger$. Moreover, $\\Vert a |n\\rangle \\Vert = |c|^2 \\geq 0$, and $\\Vert a|n\\rangle \\Vert^2 = \\langle n|a^\\dagger a | n \\rangle=n$, and so $n \\geq 0$. These facts together show us that $n$ is the number of photons in the qumode, and $N$ is a special operator that counts the number of photons in the qumode. For this reason it is called the number operator.\n"
   ]
  },
  {
   "attachments": {},
   "cell_type": "markdown",
   "metadata": {},
   "source": [
    "### Properties\n",
    "We can explore more properties of the ladder operators using these facts. First, we find\n",
    "$$\n",
    "\\Vert a|n\\rangle \\Vert^2 = \\langle n| a^\\dagger a |n\\rangle = n\\langle n | n\\rangle = n\n",
    "$$\n",
    "But $\\Vert a|n\\rangle \\Vert^2 = |c_n|^2$, and so $|c_n|^2 = n$. We can choose $c_n$ to be real without loss of generality, and so $c_n = \\sqrt{n}$. This gives\n",
    "$$\n",
    "a|n\\rangle = \\sqrt{n}|n-1\\rangle\n",
    "$$\n",
    "We can find the constant $d_n$ such that $a^\\dagger |n\\rangle = d_n |n+1\\rangle$ by enforcing that $a^\\dagger$ is the adjoint of $a$. This requires that\n",
    "$$\n",
    "\\Big \\langle a|n\\rangle, |m\\rangle \\Big \\rangle = \n",
    "\\Big \\langle |n\\rangle, a^\\dagger|m\\rangle \\Big \\rangle\n",
    "$$\n",
    "The inner product is sesquilinear in the second argument, meaning that $\\langle u, av\\rangle = \\langle a^\\ast u, v \\rangle$. Thus we have\n",
    "$$\n",
    "\\Big \\langle a|m\\rangle, |n\\rangle \\Big \\rangle = \\sqrt{m}\\langle m-1| n \\rangle = \\sqrt{n+1}\\delta_{m-1, n}\n",
    "$$\n",
    "and\n",
    "$$\n",
    "\\Big \\langle |m\\rangle, a^\\dagger|n\\rangle \\Big \\rangle = d_n^\\ast \\langle m | n+1\\rangle = d_n^\\ast\\delta_{m, n+1}\n",
    "$$\n",
    "Choosing $d_n$ to be real by convention, we get $d_n = \\sqrt{n+1}$, and so\n",
    "$$\n",
    "a^\\dagger |n\\rangle = \\sqrt{n+1}|n+1\\rangle\n",
    "$$\n",
    "\n"
   ]
  },
  {
   "attachments": {},
   "cell_type": "markdown",
   "metadata": {},
   "source": [
    "## Operators as outer products\n",
    "So far, Dirac notation has simplified writing down states such as $|\\psi\\rangle$, $|\\phi\\rangle$ and inner products $\\langle \\psi | \\phi \\rangle$. Dirac notation can also be useful to simplify the way operators are written. One fact about a linear operator $T$ is that it can be uniquely defined by the way it acts on a basis. Consider the number basis $B = \\{|0\\rangle, |1\\rangle, |2\\rangle, ...\\}$. When $t$ acts on $|n\\rangle$, we will call the resultant state $T|n\\rangle \\equiv |t_n\\rangle$. Then we claim that we can write $T$ as\n",
    "$$\n",
    "T = \\sum_{m=0}|t_m\\rangle \\langle m|\n",
    "$$\n",
    "This follows from the orthonormality of $B$: $\\langle n | m \\rangle = \\delta_{mn}$. We can use the associativity of the algebra to check that $T$ produces the correct output for each basis ket input:\n",
    "$$\n",
    "T |n\\rangle = \\sum_{m=0}|t_m\\rangle \\langle m|n\\rangle = \n",
    "\\sum_{m=0}|t_m\\rangle\\delta_{mn} = \n",
    "|t_n\\rangle\n",
    "$$\n",
    "\n",
    "### Examples\n",
    "Some interesting examples of this are\n",
    "\n",
    "1. \n",
    "$$\n",
    "N = \\sum_{n=0}^\\infty n|n\\rangle \\langle n|\n",
    "$$\n",
    "2. \n",
    "$$\n",
    "a = \\sum_{n=0}^\\infty \\sqrt{n}|n-1\\rangle \\langle n|\n",
    "$$\n",
    "3.\n",
    "$$\n",
    "a^\\dagger = \\left(\\sum_{n=0}^\\infty \\sqrt{n}|n-1\\rangle \\langle n|\\right)^\\dagger = \n",
    "\\sum_{n=0}^\\infty \\sqrt{n}(|n-1\\rangle \\langle n|)^\\dagger = \n",
    "\\sum_{n=0}^\\infty \\sqrt{n+1}|n+1\\rangle \\langle n|\n",
    "$$\n",
    "We can also conveniently Taylor-expand any smooth function of the operator of $N$:\n",
    "4.\n",
    "$$\n",
    "f({\\alpha N})|n\\rangle = \\sum_{m=0}^\\infty \\frac{f^{m}(0)(\\alpha N)^m|n\\rangle}{m!} = \n",
    "\\sum_{m=0}^\\infty \\frac{(\\alpha n)^m|n\\rangle}{m!} = f(\\alpha n)|n\\rangle\n",
    "$$\n",
    "Using the method above of writing linear maps using outer products, we can then say that\n",
    "$$\n",
    "f(\\alpha N) = \\sum_{n=0}^\\infty f(\\alpha n)|n\\rangle \\langle n|\n",
    "$$\n",
    "This is immediately applicable to any bounded, Hermitian operator in its eigenbasis.\n"
   ]
  },
  {
   "attachments": {},
   "cell_type": "markdown",
   "metadata": {},
   "source": [
    "## Qumodes as harmonic oscillators\n",
    "Qumodes are often referred to as quantum harmonic oscillators, and so far we have completely avoided addressing why a qumode, which is a system that supports any number of identical particles with the same amount of energy, would have anything to do with a harmonic oscillator. This connection begins by introducing the operators $X$ and $P$, which are defined in terms of the creation and annihilation operators as\n",
    "\\begin{align*}\n",
    "X &= \\frac{a + a^\\dagger}{\\sqrt{2}} & P &= \\frac{a-a^\\dagger}{i\\sqrt{2}}\n",
    "\\end{align*}\n",
    "Using $[a,a^\\dagger]=1$, we quickly work out $[X,P] = i$. As we have said previously, the mode has a fundamental frequency $\\omega$, and each photon in the mode contributes the energy $\\hbar \\omega$. Therefore, we can introduce the energy operator, or Hamiltonian,\n",
    "$$\n",
    "H = \\omega \\hbar N\n",
    "$$\n",
    "Since only energy differences are directly measurable, we are free to set the energy of the $|0\\rangle$ state, the zero-point energy, to be whatever we like. Chosing $\\frac{\\omega \\hbar}{2}$ for this energy, we have the adjusted Hamiltonian\n",
    "$$\n",
    "H' = \\omega \\hbar(N+\\frac{1}{2}) = \\omega\\hbar(a^\\dagger a + \\frac{1}{2})\n",
    "$$\n",
    "In terms of the new $X$ and $P$ operators, this is written\n",
    "\\begin{align*}\n",
    "H' &= \\omega\\hbar\\left(\\left[\\frac{X-iP}{\\sqrt{2}}\\right]\\left[\\frac{X+iP}{\\sqrt{2}}\\right]+\\frac{1}{2}\\right)\\\\\n",
    "&= \\omega\\hbar\\left(\\frac{X^2}{2}+\\frac{P^2}{2}+\\frac{i}{2}[X,P]+\\frac{1}{2}\\right)\\\\\n",
    "&= \\frac{\\omega \\hbar X^2}{2}+\\frac{\\omega \\hbar P^2}{2}\n",
    "\\end{align*}\n",
    "Then, we define a rescaled set of operators\n",
    "\\begin{align*}\n",
    "x &= X\\sqrt{\\frac{m\\omega}{\\hbar}} & \n",
    "p &= P\\sqrt{\\frac{1}{\\hbar m \\omega}} & \n",
    "\\end{align*}\n",
    "In terms of these operators, the Hamiltonian is written\n",
    "$$\n",
    "H' = \\frac{p^2}{2m} + \\frac{1}{2}m\\omega^2x^2\n",
    "$$\n",
    "This can be recognized as the energy of any classical harmonic oscillator, such as a spring attached to a mass $m$ and a spring constant $k = m\\omega^2$, as shown in the picture below.\n",
    "\n",
    "![A classical harmonic oscillator](./figures/oscillator.svg )\n",
    "\n",
    "This is a beautiful connection that goes much deeper than a seemingly random redefinition of operators. For more on this, see the tutorial on coherent states, `coherent_states.ipynb`"
   ]
  },
  {
   "attachments": {},
   "cell_type": "markdown",
   "metadata": {},
   "source": [
    "### Continuous bases\n",
    "We have seen that $N$ is a Hermitian operator, with $N^\\dagger = (a^\\dagger a)^\\dagger = a^\\dagger a = N$. This implies that it has a complete, orthogonal set of eigenkets, which we have identified with the Fock states $\\{|0\\rangle, |1\\rangle, |2\\rangle,...\\}$. We can also quickly check that $X^\\dagger = X$ and $P^\\dagger = P$, so these operators are also Hermitian. But after exploring the correspondence between $X$, $P$ and classical position and momentum, $X$ should have eigenvalues corresponding to *every real number*. Thus, instead of a countably infinite basis, $\\{|n\\rangle | n \\in \\mathbb{N}\\}$, we now have the *uncountably infinite* basis $\\{|x'\\rangle | x' \\in \\mathbb{R}\\}$. \n",
    "\n",
    "**Note:** This is technically only possible because wavefucntions must be continuous to be normalizable, because in general there is no bijection between countably and uncountably infinite sets, and thus no unitary transformation between them. Continuity circumvents this requirement by allowing functions to be fully specifed using only a dense subset of $\\mathbb{R}$, such as $\\mathbb{Q}$, which is countable.\n",
    "\n",
    "This may seem complicated, but we can easily update all of the formalism by essentially replacing every Krockecker delta with a Dirac delta, and every sum with an integral. This can be summarized by the following \"dictionary\" of translations, where $A$ is a Hermitian operator with discrete eigenvalues $a'$, and $\\xi$ is an operator with continuous eigenvalues $\\xi'$:\n",
    "\n",
    "\\begin{align*}\n",
    "\\sum_{a'} &\\to \\int d\\xi'\\\\\n",
    "\\text{(Orthonormality:)} \\ \\langle a'|a'' \\rangle = \\delta_{a'a''} &\\to \\langle \\xi' | \\xi' \\rangle = \\delta(\\xi-\\xi')\\\\\n",
    "\\text{(Completeness:)} \\  \\sum_{a'}|a'\\rangle \\langle a'| = \\mathbb{I} &\\to \\int d\\xi' |\\xi'\\rangle\\langle \\xi'| = \\mathbb{I}\\\\\n",
    "\\text{(Normalization:)} \\ \\sum_{a'}|\\langle a'|\\alpha\\rangle |^2 = 1 &\\to \\int d\\xi' |\\langle \\xi'|\\alpha\\rangle|^2 = 1\n",
    "\\end{align*}\n",
    "\n",
    "In addition, when we talk about the wavefunction of a state $|\\alpha\\rangle$ in the basis $\\{|\\xi\\rangle\\}$, we are referring to the inner product\n",
    "$$\n",
    "\\psi_\\alpha(\\xi') \\equiv \\langle \\xi' | \\alpha \\rangle\n",
    "$$\n",
    "where $\\psi$ is interpreted as a continuous function of the eigenvalue $\\xi'$ of the $\\xi$ operator."
   ]
  }
 ],
 "metadata": {
  "kernelspec": {
   "display_name": "Python 3",
   "language": "python",
   "name": "python3"
  },
  "language_info": {
   "codemirror_mode": {
    "name": "ipython",
    "version": 3
   },
   "file_extension": ".py",
   "mimetype": "text/x-python",
   "name": "python",
   "nbconvert_exporter": "python",
   "pygments_lexer": "ipython3",
   "version": "3.10.8 (main, Nov  1 2022, 14:18:21) [GCC 12.2.0]"
  },
  "orig_nbformat": 4,
  "vscode": {
   "interpreter": {
    "hash": "e7370f93d1d0cde622a1f8e1c04877d8463912d04d973331ad4851f04de6915a"
   }
  }
 },
 "nbformat": 4,
 "nbformat_minor": 2
}

{
 "cells": [
  {
   "cell_type": "markdown",
   "metadata": {},
   "source": [
    "# Coherent States"
   ]
  },
  {
   "attachments": {},
   "cell_type": "markdown",
   "metadata": {},
   "source": [
    "## What is a coherent state?\n",
    "A coherent state $|\\lambda\\rangle$ is defined as an eigenstate of the annihilation operator $a$ with eigenvalue $\\lambda$. It seems like it would be a contradiction that after removing a photon from a state we could get the same state back, but the resolution to this apparent contradiction lies in the infinite number of states in the state space of the qumode. In the `gates.ipynb` tutorial, we saw that\n",
    "$$\n",
    "|\\lambda\\rangle = D(\\lambda)|0\\rangle \n",
    "$$\n",
    "We can use the BCH lemma to show that\n",
    "$$\n",
    "e^{a\\lambda^\\ast-a^\\dagger \\lambda} = e^{-[a\\lambda^\\ast, a^\\dagger \\lambda]/2}e^{a^\\dagger \\lambda}e^{a\\lambda^\\ast}  = e^{-|\\lambda|^2/2}e^{a^\\dagger \\lambda}e^{a\\lambda^\\ast}\n",
    "$$\n",
    "Acting on $|0\\rangle$, we see that $a^n|0\\rangle = 0$ unless $n=0$, so every non-zero term in the power series of $e^{a\\lambda^\\ast}$ produces the null ket when acting on $|0\\rangle$. This gives $e^{a\\lambda^\\ast}|0\\rangle = |0\\rangle$, and so\n",
    "$$\n",
    "|\\lambda \\rangle = e^{-|\\lambda|^2/2}e^{a^\\dagger\\lambda}|0\\rangle = e^{-|\\lambda|^2/2}\\sum_{n=0}^\\infty \\frac{(\\lambda a^\\dagger)^n |0\\rangle }{n!} = e^{-|\\lambda|^2/2}\\sum_{n=0}^\\infty \\frac{\\lambda^n|n\\rangle }{\\sqrt{n!}}\n",
    "$$\n",
    "This gives the general form of a coherent state in the Fock basis. It also follows from the unitarity of $D(\\lambda)$ that $|\\lambda\\rangle$ is normalized. We see that the contradiction is resolved by a superposition of an infinite number of Fock states such that when a photon is removed from one state, the next one up drops in to take its place, continuing ad. infinitum.\n",
    "\n",
    "**Exercise:** Prove directly that the coherent state is normalized."
   ]
  },
  {
   "attachments": {},
   "cell_type": "markdown",
   "metadata": {},
   "source": [
    "## Fock number distribution\n",
    "The coherent state is one of the few states we've discussed that do not have a definite photon number. The average photon number in a coherent state follows quickly from the eigenvalue equation:\n",
    "$$\n",
    "\\bar n = \\langle \\lambda | N | \\lambda \\rangle = \\langle \\lambda | a^\\dagger a | \\lambda \\rangle = |\\lambda|^2\n",
    "$$\n",
    "Evidently, coherent states with bigger magnitudes of $\\lambda$ have on average more photons. The average energy, setting the zero-point energy to be zero, is $\\bar E = \\hbar \\omega \\bar n = \\hbar \\omega |\\lambda|^2$. If this is the mean photon number, then it is reasonable to ask what the distribution of the photon number would be if measured in the number basis. Using the Borne rule,\n",
    "$$\n",
    "p\\lambda(m) = |\\langle m |\\lambda \\rangle|^2 = e^{-|\\lambda|^2}\\left|\\sum_{n}^{\\infty} \\frac{\\lambda^n\\langle m | n\\rangle}{\\sqrt{n!}}\\right|^2 = \\frac{e^{-|\\lambda|^2}(|\\lambda|^2)^n}{n!}\n",
    "$$\n",
    "This is recognizable as a Poisson distribution with mean $|\\lambda|^2$ and a standard deviation $|\\lambda|$. One important consequence of this fact is that the ratio of the mean energy to the standard deviation of the energy is\n",
    "$$\n",
    "\\frac{\\Delta^\\ast E}{\\overline E} = |\\lambda|^{-1}\n",
    "$$\n",
    "This implies that as $|\\lambda|$ increases to macroscopic energies, the energy of the state has a tiny deviation relative to the mean, so it can be treated as approximately definite. This is useful for exploring the classical correspondence limit, which we will do in a second."
   ]
  },
  {
   "attachments": {},
   "cell_type": "markdown",
   "metadata": {},
   "source": [
    "## Vanishing overlap\n",
    "So far, we have only explored the orthonormal sets of eigenkets of $x$ and $N$. The orthonormality of these kets is implied by the fact that both $x$ and $N$ are normal, i.e. $[X, X^\\dagger] = 0$ and $[N,N^\\dagger]=0$. However $[a,a^\\dagger]=1$, so $a$ does not have an orthonormal eigenbasis. If two coherent states $|\\theta\\rangle$, $|\\lambda\\rangle$ are not orthogonal, then they have some non-trivial inner product. To find the inner product, we first show that we can rotate the complex parameter of a coherent state using the phase space rotation gate from `gates.ipynb`:\n",
    "$$\n",
    "r(\\phi)|\\lambda\\rangle = \\sum_{n=0}\\frac{e^{i\\phi a^\\dagger a}\\lambda^n|n\\rangle}{\\sqrt{n!}} = \n",
    "\\sum_{n=0}\\frac{(e^{i\\phi}\\lambda)^n|n\\rangle}{\\sqrt{n!}} = |e^{i\\phi}\\lambda\\rangle\n",
    "$$\n",
    "Define the average $\\mu = \\frac{\\lambda + \\theta}{2}$. We can can use a displacement gate and rotation gate to move both coherent state parameters to the real axis:\n",
    "\\begin{align*}\n",
    "r(\\arg(\\mu-\\lambda))D(-\\mu)|\\lambda\\rangle &\\propto |e^{-i\\arg(\\lambda-\\mu)}(\\lambda-\\mu)\\rangle\\\\\n",
    "r(\\arg(\\mu-\\lambda))D(-\\mu)|\\theta\\rangle &\\propto |e^{-i\\arg(\\lambda-\\mu)}(\\theta-\\mu)\\rangle = |-e^{-i\\arg(\\theta-\\mu)}(\\theta-\\mu)\\rangle\n",
    "\\end{align*}\n",
    "Since $D(-\\mu)$ and $r(\\arg(\\mu-\\lambda))$ are both unitary, the inner product is preserved:\n",
    "$$\n",
    "\\langle \\theta | \\lambda \\rangle = \\langle \\theta | D^\\dagger(-\\mu)r^\\dagger(\\arg(\\mu-\\lambda)) r(\\arg(\\mu-\\lambda))D(-\\mu) |\\lambda\\rangle\n",
    "$$\n",
    "Introduce the definitions $\\lambda' = e^{-i\\arg(\\lambda-\\mu)}(\\lambda-\\mu)$ and $\\theta' = -e^{-i\\arg(\\theta-\\mu)}(\\theta-\\mu)$, where $\\lambda'$ and $\\theta'$ are both real. Then computing the inner product,\n",
    "$$\n",
    "\\langle \\theta' | \\lambda' \\rangle = e^{-(\\theta)^2/2-(\\lambda')^2/2}\\sum_{m,n}\\frac{(\\theta')^m(\\lambda')^n\\langle m | n \\rangle}{\\sqrt{n!m!}}\n",
    "= e^{-(\\theta')^2/2-(\\lambda')^2/2}\\sum_{m,n}\\frac{(\\theta'\\lambda')^n}{n!}\n",
    "= e^{-(\\theta')^2/2+\\lambda'\\theta' -(\\lambda')^2/2}\n",
    "= e^{-(\\theta'-\\lambda')^2}\n",
    "$$\n",
    "Lastly, using $(\\theta'-\\lambda')^2 = |\\theta-\\lambda|^2$, we find\n",
    "$$\n",
    "\\langle \\theta | \\lambda \\rangle = e^{-|\\lambda-\\theta|^2}\n",
    "$$\n",
    "This gives a condition that as $\\lambda$ and $\\theta$ get farther apart in the complex plane, the overlap $\\langle \\theta | \\lambda \\rangle$ gets exponentially smaller. This fact becomes important when coherent states are used as aproximately orthogonal states."
   ]
  },
  {
   "attachments": {},
   "cell_type": "markdown",
   "metadata": {},
   "source": [
    "## Minimizing uncertainty\n",
    "Consider the ground state $|0\\rangle$. Using $X = \\frac{a+a^\\dagger}{\\sqrt{2}}$ and $P = \\frac{a-a^\\dagger}{i\\sqrt{2}}$, we have\n",
    "$$\n",
    "\\langle 0 | P | 0 \\rangle = \\langle 0| X  |0 \\rangle = 0\n",
    "$$\n",
    "Using the commutator $[a,a^\\dagger] = 1$, we expand\n",
    "$$\n",
    "X^2 = \\frac{1}{2}(a^2+a^\\dagger a+aa^\\dagger+(a^\\dagger)^2) = \n",
    "\\frac{a^2}{2}+a^\\dagger a+\\frac{1}{2}+\\frac{(a^\\dagger)^2}{2}\n",
    "$$\n",
    "With this, alongside the fact that $a|0\\rangle = \\langle 0 |a^\\dagger = 0$, we find the variance of $X$:\n",
    "$$\n",
    "\\langle 0 |(\\delta X)^2 |0\\rangle = \\langle 0 | X^2 | 0\\rangle - \\langle 0 | X | 0 \\rangle^2 =  \\frac{1}{2}\n",
    "$$\n",
    "Then observing that $\\langle 0 |H|0\\rangle = \\frac{\\hbar\\omega}{2}(\\langle 0 |P^2|0 \\rangle+\\langle 0|X^2|0 \\rangle)$, where this Hamiltonian corresponds to a zero-point energy $\\langle 0|H|0\\rangle = \\frac{\\hbar \\omega}{2}$, we calculate $\\langle 0|P^2|0 \\rangle = \\frac{1}{2}$. This gives\n",
    "$$\n",
    "\\langle (\\delta P)^2 \\rangle = \\frac{1}{2}\n",
    "$$\n",
    "putting these together, we see that $\\langle(\\delta P)^2\\rangle\\langle (\\delta X)^2 \\rangle = \\frac{1}{4}$, Since $[X,P]=i$, this makes the ground state of the qumode a minimum-uncertainty state.\n",
    "\n",
    "Next, we investigate the displaced position and momentum operators:\n",
    "\\begin{align*}\n",
    "D^\\dagger(\\theta)X D(\\theta) &= \\frac{a+\\theta + a^\\dagger + \\theta^\\ast}{\\sqrt{2}} = X+\\sqrt{2}\\operatorname{Re}(\\theta)\\\\\n",
    "D^\\dagger(\\theta)P D(\\theta) &= \\frac{a+\\theta - a^\\dagger - \\theta^\\ast}{i\\sqrt{2}} = P+\\sqrt{2}\\operatorname{Im}(\\theta)\n",
    "\\end{align*}\n",
    "Since $X$ and $P$ are only shifted by the displacement and not rescaled, the variances of $X$ and $P$ are left unchanged. This makes every coherent state $|\\theta\\rangle$ a minimum uncertainty state with the symmetrical uncertainties $\\langle (\\delta X) \\rangle^2 = \\langle (\\delta P)^2 \\rangle = \\frac{1}{2}$.  "
   ]
  },
  {
   "attachments": {},
   "cell_type": "markdown",
   "metadata": {},
   "source": [
    "## The correspondence limit\n",
    "As discussed in `operations.ipynb`, the Hamiltonian, or energy operator for the qumode is proportional to the number operator:\n",
    "$$\n",
    "H = \\omega \\hbar N\n",
    "$$\n",
    "Shrodinger's equation is a differential equation relating the evolution of the wavefunction in time to the Hamiltonian:\n",
    "$$\n",
    "i\\hbar \\frac{\\partial}{\\partial t}\\ket{\\psi} = H|\\psi\\rangle\n",
    "$$\n",
    "Since $H$ does not depend on time, this equation can be integrated directly to get\n",
    "$$\n",
    "|\\psi, t\\rangle = e^{-i \\omega N t}|\\psi\\rangle = r(-\\omega t)|\\psi\\rangle\n",
    "$$\n",
    "Where we have written the resulting operator in terms of the phase space rotation operator. As shown above, applying the phase space rotation to a coherent state results in another coherent state:\n",
    "$$\n",
    "|\\lambda, t\\rangle = r(-\\omega t)|\\lambda\\rangle = |e^{-i\\omega t}\\lambda \\rangle\n",
    "$$\n",
    "As we have shown, $\\langle X \\rangle_0 = \\langle P \\rangle_0 = 0$. Using the displaced operators $X$ and $P$ from above, and defining $\\phi \\equiv \\arg(\\lambda)$, \n",
    "\\begin{align*}\n",
    "    \\langle X \\rangle_\\lambda &= \\sqrt{2}\\operatorname{Re}(\\lambda) = |\\lambda|\\sqrt{2}\\cos(\\omega t+\\phi) & \\langle P \\rangle_\\lambda = \\sqrt{2}\\operatorname{Im}(\\lambda) = -|\\lambda|\\sqrt{2}\\sin(\\omega t+\\phi)\n",
    "\\end{align*}\n",
    "Moving into the rescaled coordinates that produce the Harmonic oscillator potential, we have\n",
    "\\begin{align*}\n",
    "    \\langle x \\rangle_\\lambda &= (m\\omega/\\hbar)^{-\\frac{1}{2}}\\langle X \\rangle_\\lambda = \\langle x(0)\\rangle\\cos(\\omega t+\\phi)\\\\\n",
    "    \\langle p \\rangle_\\lambda &= (m \\omega \\hbar)^{\\frac{1}{2}}\\langle P\\rangle_\\lambda = -m\\omega \\langle x(0)\\rangle \\sin(\\omega +\\phi)\n",
    "\\end{align*}\n",
    "Compare this to a classical harmonic oscillator, like the one depicted below:\n",
    "\n",
    "![A classical harmonic oscillator](./figures/oscillator.svg )\n",
    "\n",
    "Taking $k = m\\omega^2$, Newton's 2nd Law says that $x''(t) = -m\\omega x(t)$, and the solution to this equation is $x(t) = x(0)\\cos(\\omega t + \\phi)$. Using $p=mx'$, we recover $p(t) = -m\\omega x(0)\\sin(\\omega t + \\phi)$. Evidently, the expectation value of the coherent state evolves under the same equations of motion as a classical harmonic oscillator."
   ]
  }
 ],
 "metadata": {
  "kernelspec": {
   "display_name": "Python 3",
   "language": "python",
   "name": "python3"
  },
  "language_info": {
   "codemirror_mode": {
    "name": "ipython",
    "version": 3
   },
   "file_extension": ".py",
   "mimetype": "text/x-python",
   "name": "python",
   "nbconvert_exporter": "python",
   "pygments_lexer": "ipython3",
   "version": "3.10.8 (main, Nov  1 2022, 14:18:21) [GCC 12.2.0]"
  },
  "orig_nbformat": 4,
  "vscode": {
   "interpreter": {
    "hash": "e7370f93d1d0cde622a1f8e1c04877d8463912d04d973331ad4851f04de6915a"
   }
  }
 },
 "nbformat": 4,
 "nbformat_minor": 2
}
